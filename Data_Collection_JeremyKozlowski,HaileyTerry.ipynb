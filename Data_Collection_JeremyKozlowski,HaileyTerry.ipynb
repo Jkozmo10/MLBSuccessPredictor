{
  "cells": [
    {
      "cell_type": "markdown",
      "source": [
        "Note: Do not run this code. It will timeout or run for 12+ hours. The messages seen down below are simply warning messages that do not impact the final result."
      ],
      "metadata": {
        "id": "WuKJvKO_tHbZ"
      }
    },
    {
      "cell_type": "markdown",
      "source": [
        "Necessary imports:"
      ],
      "metadata": {
        "id": "qyeiQv91WhqY"
      }
    },
    {
      "cell_type": "code",
      "execution_count": null,
      "metadata": {
        "id": "B0VS5fC5oUAl"
      },
      "outputs": [],
      "source": [
        "import pandas as pd\n",
        "import requests\n",
        "from bs4 import BeautifulSoup\n",
        "import re\n",
        "import time"
      ]
    },
    {
      "cell_type": "markdown",
      "source": [
        "The URL's we needed to access for player data on Baseball Reference are indexed by character. We iterate through the alphabet to get all player data. For each letter we gather all player links and store them in a dataframe."
      ],
      "metadata": {
        "id": "ZLSKqZyZWkMY"
      }
    },
    {
      "cell_type": "code",
      "execution_count": null,
      "metadata": {
        "id": "S0cFvVdsbJLs",
        "colab": {
          "base_uri": "https://localhost:8080/"
        },
        "outputId": "4d5fea7a-b1d5-4875-fb54-274d129a1654"
      },
      "outputs": [
        {
          "output_type": "execute_result",
          "data": {
            "text/plain": [
              "['/players/a/aardsda01.shtml',\n",
              " '/players/a/aasedo01.shtml',\n",
              " '/players/a/abadan01.shtml',\n",
              " '/players/a/abbotgl01.shtml',\n",
              " '/players/a/abbotje01.shtml',\n",
              " '/players/a/abbotji01.shtml',\n",
              " '/players/a/abbotku01.shtml',\n",
              " '/players/a/abbotky01.shtml',\n",
              " '/players/a/abbotpa01.shtml',\n",
              " '/players/a/abercre01.shtml',\n",
              " '/players/a/abernbr01.shtml',\n",
              " '/players/a/abnersh01.shtml',\n",
              " '/players/a/abregjo01.shtml',\n",
              " '/players/a/abreubo01.shtml',\n",
              " '/players/a/abreuju01.shtml',\n",
              " '/players/a/abreuto01.shtml',\n",
              " '/players/a/abreuwi01.shtml',\n",
              " '/players/a/accarje01.shtml',\n",
              " '/players/a/acevejo01.shtml',\n",
              " '/players/a/aceveju01.shtml',\n",
              " '/players/a/aceveal01.shtml',\n",
              " '/players/a/achteaj01.shtml',\n",
              " '/players/a/ackerji01.shtml',\n",
              " '/players/a/ackledu01.shtml',\n",
              " '/players/a/acostma01.shtml',\n",
              " '/players/a/acrema01.shtml',\n",
              " '/players/a/adamecr01.shtml',\n",
              " '/players/a/adamsau01.shtml',\n",
              " '/players/a/adamsch01.shtml',\n",
              " '/players/a/adamsda02.shtml',\n",
              " '/players/a/adamsgl01.shtml',\n",
              " '/players/a/adamsla01.shtml',\n",
              " '/players/a/adamsma01.shtml',\n",
              " '/players/a/adamsmi03.shtml',\n",
              " '/players/a/adamsri02.shtml',\n",
              " '/players/a/adamsru01.shtml',\n",
              " '/players/a/adamsry01.shtml',\n",
              " '/players/a/adamste01.shtml',\n",
              " '/players/a/adamswi02.shtml',\n",
              " '/players/a/adamsjo02.shtml',\n",
              " '/players/a/adcocna01.shtml',\n",
              " '/players/a/adducji01.shtml',\n",
              " '/players/a/adducji02.shtml',\n",
              " '/players/a/adenhni01.shtml',\n",
              " '/players/a/adkinjo01.shtml',\n",
              " '/players/a/adkinst01.shtml',\n",
              " '/players/a/adlemti01.shtml',\n",
              " '/players/a/afenitr01.shtml',\n",
              " '/players/a/affelje01.shtml',\n",
              " '/players/a/agbaybe01.shtml',\n",
              " '/players/a/agostju01.shtml',\n",
              " '/players/a/agrazda01.shtml',\n",
              " '/players/a/aguaylu01.shtml',\n",
              " '/players/a/aguilch01.shtml',\n",
              " '/players/a/aguilmi01.shtml',\n",
              " '/players/a/aguilry01.shtml',\n",
              " '/players/a/aguilri01.shtml',\n",
              " '/players/a/ahearpa01.shtml',\n",
              " '/players/a/aikenwi01.shtml',\n",
              " '/players/a/aingeda01.shtml',\n",
              " '/players/a/ainswku01.shtml',\n",
              " '/players/a/akerfda01.shtml',\n",
              " '/players/a/akiyash01.shtml',\n",
              " '/players/a/alanirj01.shtml',\n",
              " '/players/a/albagi01.shtml',\n",
              " '/players/a/albaljo01.shtml',\n",
              " '/players/a/alberjo01.shtml',\n",
              " '/players/a/alberan01.shtml',\n",
              " '/players/a/alberma01.shtml',\n",
              " '/players/a/albural01.shtml',\n",
              " '/players/a/alcanar01.shtml',\n",
              " '/players/a/alcanis01.shtml',\n",
              " '/players/a/alcanra01.shtml',\n",
              " '/players/a/alcanse01.shtml',\n",
              " '/players/a/alcanvi01.shtml',\n",
              " '/players/a/aldresc01.shtml',\n",
              " '/players/a/aldremi01.shtml',\n",
              " '/players/a/aldrija01.shtml',\n",
              " '/players/a/aldrico01.shtml',\n",
              " '/players/a/alexado01.shtml',\n",
              " '/players/a/alexaga01.shtml',\n",
              " '/players/a/alexage01.shtml',\n",
              " '/players/a/alexaja01.shtml',\n",
              " '/players/a/alexama02.shtml',\n",
              " '/players/a/alexama01.shtml',\n",
              " '/players/a/alexyaj01.shtml',\n",
              " '/players/a/alfarja01.shtml',\n",
              " '/players/a/alfonan01.shtml',\n",
              " '/players/a/alfoned01.shtml',\n",
              " '/players/a/alfonel01.shtml',\n",
              " '/players/a/alforan01.shtml',\n",
              " '/players/a/alicelu01.shtml',\n",
              " '/players/a/allanan01.shtml',\n",
              " '/players/a/allarbr01.shtml',\n",
              " '/players/a/alldrca01.shtml',\n",
              " '/players/a/allenau01.shtml',\n",
              " '/players/a/allenbr01.shtml',\n",
              " '/players/a/allench01.shtml',\n",
              " '/players/a/allenco01.shtml',\n",
              " '/players/a/allendu01.shtml',\n",
              " '/players/a/allenja02.shtml',\n",
              " '/players/a/allenki01.shtml',\n",
              " '/players/a/allenlo01.shtml',\n",
              " '/players/a/allenlu01.shtml',\n",
              " '/players/a/allenne01.shtml',\n",
              " '/players/a/allenro02.shtml',\n",
              " '/players/a/allenga01.shtml',\n",
              " '/players/a/allenje01.shtml',\n",
              " '/players/a/allgeni01.shtml',\n",
              " '/players/a/allisda01.shtml',\n",
              " '/players/a/allrebe01.shtml',\n",
              " '/players/a/almanar01.shtml',\n",
              " '/players/a/almanca01.shtml',\n",
              " '/players/a/almonbi01.shtml',\n",
              " '/players/a/almoned01.shtml',\n",
              " '/players/a/almoner01.shtml',\n",
              " '/players/a/almonhe01.shtml',\n",
              " '/players/a/almonmi01.shtml',\n",
              " '/players/a/almonzo01.shtml',\n",
              " '/players/a/almoral01.shtml',\n",
              " '/players/a/alomaro01.shtml',\n",
              " '/players/a/alomasa02.shtml',\n",
              " '/players/a/alonsyo01.shtml',\n",
              " '/players/a/aloumo01.shtml',\n",
              " '/players/a/alstode01.shtml',\n",
              " '/players/a/alstoga01.shtml',\n",
              " '/players/a/altampo01.shtml',\n",
              " '/players/a/altavda01.shtml',\n",
              " '/players/a/altheaa01.shtml',\n",
              " '/players/a/alvarab01.shtml',\n",
              " '/players/a/alvarcl01.shtml',\n",
              " '/players/a/alvarda02.shtml',\n",
              " '/players/a/alvarda01.shtml',\n",
              " '/players/a/alvared01.shtml',\n",
              " '/players/a/alvarga01.shtml',\n",
              " '/players/a/alvarhe01.shtml',\n",
              " '/players/a/alvarjo01.shtml',\n",
              " '/players/a/alvarjo02.shtml',\n",
              " '/players/a/alvarju01.shtml',\n",
              " '/players/a/alvarpe01.shtml',\n",
              " '/players/a/alvarrj01.shtml',\n",
              " '/players/a/alvarta01.shtml',\n",
              " '/players/a/alvarto01.shtml',\n",
              " '/players/a/alvarvi01.shtml',\n",
              " '/players/a/alvarwi01.shtml',\n",
              " '/players/a/amarari01.shtml',\n",
              " '/players/a/amarial01.shtml',\n",
              " '/players/a/amaroru02.shtml',\n",
              " '/players/a/ambrech01.shtml',\n",
              " '/players/a/ambrihe01.shtml',\n",
              " '/players/a/amburtr01.shtml',\n",
              " '/players/a/amelued01.shtml',\n",
              " '/players/a/amesst01.shtml',\n",
              " '/players/a/amezaal01.shtml',\n",
              " '/players/a/anderla02.shtml',\n",
              " '/players/a/anderal02.shtml',\n",
              " '/players/a/anderbr01.shtml',\n",
              " '/players/a/anderbr04.shtml',\n",
              " '/players/a/anderbr02.shtml',\n",
              " '/players/a/anderbr03.shtml',\n",
              " '/players/a/anderbr05.shtml',\n",
              " '/players/a/anderbu01.shtml',\n",
              " '/players/a/anderco01.shtml',\n",
              " '/players/a/anderda02.shtml',\n",
              " '/players/a/anderdr01.shtml',\n",
              " '/players/a/anderdr02.shtml',\n",
              " '/players/a/anderga01.shtml',\n",
              " '/players/a/anderia01.shtml',\n",
              " '/players/a/anderja01.shtml',\n",
              " '/players/a/anderji01.shtml',\n",
              " '/players/a/anderji02.shtml',\n",
              " '/players/a/anderjo03.shtml',\n",
              " '/players/a/anderju01.shtml',\n",
              " '/players/a/anderke01.shtml',\n",
              " '/players/a/anderla03.shtml',\n",
              " '/players/a/anderma02.shtml',\n",
              " '/players/a/anderma01.shtml',\n",
              " '/players/a/andermi02.shtml',\n",
              " '/players/a/anderri01.shtml',\n",
              " '/players/a/anderri02.shtml',\n",
              " '/players/a/andersc01.shtml',\n",
              " '/players/a/andersh01.shtml',\n",
              " '/players/a/anderta01.shtml',\n",
              " '/players/a/andinro01.shtml',\n",
              " '/players/a/andrast01.shtml',\n",
              " '/players/a/andrejo03.shtml',\n",
              " '/players/a/andrecl01.shtml',\n",
              " '/players/a/andresh01.shtml',\n",
              " '/players/a/andrima01.shtml',\n",
              " '/players/a/andujjo01.shtml',\n",
              " '/players/a/andujlu01.shtml',\n",
              " '/players/a/anglema01.shtml',\n",
              " '/players/a/ankieri01.shtml',\n",
              " '/players/a/annade01.shtml',\n",
              " '/players/a/anthoer01.shtml',\n",
              " '/players/a/antoldu01.shtml',\n",
              " '/players/a/antonma01.shtml',\n",
              " '/players/a/aokino01.shtml',\n",
              " '/players/a/apontlu01.shtml',\n",
              " '/players/a/apostsh01.shtml',\n",
              " '/players/a/appelma01.shtml',\n",
              " '/players/a/appieke01.shtml',\n",
              " '/players/a/aquinar01.shtml',\n",
              " '/players/a/aquingr01.shtml',\n",
              " '/players/a/aquinja01.shtml',\n",
              " '/players/a/aquinlu01.shtml',\n",
              " '/players/a/aranovi01.shtml',\n",
              " '/players/a/araujel01.shtml',\n",
              " '/players/a/araujpe01.shtml',\n",
              " '/players/a/archech01.shtml',\n",
              " '/players/a/arciafr01.shtml',\n",
              " '/players/a/arciaos01.shtml',\n",
              " '/players/a/ardoida01.shtml',\n",
              " '/players/a/arencjp01.shtml',\n",
              " '/players/a/ariasal02.shtml',\n",
              " '/players/a/ariasal01.shtml',\n",
              " '/players/a/ariasge01.shtml',\n",
              " '/players/a/ariasjo01.shtml',\n",
              " '/players/a/arihako01.shtml',\n",
              " '/players/a/armasma01.shtml',\n",
              " '/players/a/armasto01.shtml',\n",
              " '/players/a/armasto02.shtml',\n",
              " '/players/a/armenro01.shtml',\n",
              " '/players/a/armstja01.shtml',\n",
              " '/players/a/armstmi01.shtml',\n",
              " '/players/a/arndtla01.shtml',\n",
              " '/players/a/arnolja01.shtml',\n",
              " '/players/a/arnolsc01.shtml',\n",
              " '/players/a/arnolto01.shtml',\n",
              " '/players/a/arnsbbr01.shtml',\n",
              " '/players/a/arojo01.shtml',\n",
              " '/players/a/arochre01.shtml',\n",
              " '/players/a/arredjo01.shtml',\n",
              " '/players/a/arrieja01.shtml',\n",
              " '/players/a/arrojro01.shtml',\n",
              " '/players/a/arroybr01.shtml',\n",
              " '/players/a/arroyfe01.shtml',\n",
              " '/players/a/arrueba01.shtml',\n",
              " '/players/a/arteahu01.shtml',\n",
              " '/players/a/asadora01.shtml',\n",
              " '/players/a/ascanjo01.shtml',\n",
              " '/players/a/ascheco01.shtml',\n",
              " '/players/v/valdelu01.shtml',\n",
              " '/players/a/asencmi01.shtml',\n",
              " '/players/a/ashbyaa01.shtml',\n",
              " '/players/a/ashbyal01.shtml',\n",
              " '/players/a/ashbyan01.shtml',\n",
              " '/players/a/asheral01.shtml',\n",
              " '/players/a/ashfotu01.shtml',\n",
              " '/players/a/ashlebi01.shtml',\n",
              " '/players/a/ashlene01.shtml',\n",
              " '/players/a/asselbr01.shtml',\n",
              " '/players/a/assenpa01.shtml',\n",
              " '/players/a/astacez01.shtml',\n",
              " '/players/a/astacpe01.shtml',\n",
              " '/players/a/astinba01.shtml',\n",
              " '/players/a/astudwi01.shtml',\n",
              " '/players/a/asuajca01.shtml',\n",
              " '/players/a/atchisc01.shtml',\n",
              " '/players/a/atchlju01.shtml',\n",
              " '/players/a/atherke01.shtml',\n",
              " '/players/a/atilalu01.shtml',\n",
              " '/players/a/atkinga01.shtml',\n",
              " '/players/a/atkinmi01.shtml',\n",
              " '/players/a/aubremi01.shtml',\n",
              " '/players/a/aucoide01.shtml',\n",
              " '/players/a/auderi01.shtml',\n",
              " '/players/a/auerbri01.shtml',\n",
              " '/players/a/augenbr01.shtml',\n",
              " '/players/a/augusdo01.shtml',\n",
              " '/players/a/augusje01.shtml',\n",
              " '/players/a/aultdo01.shtml',\n",
              " '/players/a/aumonph01.shtml',\n",
              " '/players/a/aurilri01.shtml',\n",
              " '/players/a/ausanjo01.shtml',\n",
              " '/players/a/ausmubr01.shtml',\n",
              " '/players/a/austije01.shtml',\n",
              " '/players/a/austiji02.shtml',\n",
              " '/players/a/austity01.shtml',\n",
              " '/players/a/aveliab01.shtml',\n",
              " '/players/a/avenbr01.shtml',\n",
              " '/players/a/averyst01.shtml',\n",
              " '/players/a/averyxa01.shtml',\n",
              " '/players/a/avilaal01.shtml',\n",
              " '/players/a/avilalu01.shtml',\n",
              " '/players/a/avilemi01.shtml',\n",
              " '/players/a/avilera01.shtml',\n",
              " '/players/a/axelrdy01.shtml',\n",
              " '/players/a/axforjo01.shtml',\n",
              " '/players/a/ayalabe01.shtml',\n",
              " '/players/a/ayalabo01.shtml',\n",
              " '/players/a/ayalalu01.shtml',\n",
              " '/players/a/aybarer01.shtml',\n",
              " '/players/a/aybarma01.shtml',\n",
              " '/players/a/aybarwi01.shtml',\n",
              " '/players/a/ayraubo01.shtml',\n",
              " '/players/a/ayraujo01.shtml',\n",
              " '/players/a/azocaos01.shtml']"
            ]
          },
          "metadata": {},
          "execution_count": 2
        }
      ],
      "source": [
        "playerLinks = []\n",
        "\n",
        "for letter in 'abcdefghijklmnopqrstuvwxyz':\n",
        "  response = requests.get(f\"https://www.baseball-reference.com/players/{letter}/\") # get content from the page with a last names\n",
        "  time.sleep(3.1)\n",
        "  soup = BeautifulSoup(response.content, \"html.parser\")\n",
        "\n",
        "  contentBlock = soup.find(\"div\",\n",
        "                    attrs={\n",
        "                        \"class\": \"section_content\",\n",
        "                        \"id\": \"div_players_\"\n",
        "                        })\n",
        "  allPlayers = contentBlock.find_all('p') # this is where the player information is contained\n",
        "\n",
        "  for player in allPlayers:\n",
        "    dates = re.search(r'\\(\\d{4}-(\\d{4})\\)', str(player)) # this regular expression extracts the last year a player played\n",
        "    endDate = int(dates.group(1))\n",
        "    if endDate < 2023 and endDate >= 1940: # filter down the list\n",
        "      playerLinks.append(player.find(\"a\")['href']) # get the link to the player webpage\n",
        "\n",
        "with open('playerLinks', 'wb') as pickle_file:\n",
        "  pickle.dump(playerLinks, pickle_file)\n",
        "\n",
        "playerLinks"
      ]
    },
    {
      "cell_type": "markdown",
      "source": [
        "We define helper functions get_war() and get_rookie_season() for code modularity when scraping. We want to limit our calls to to baseball reference so we define limiting criteria here. We want to make sure we are getting the stats from a players rookie season (>40 games) and their WAR, which is stored in a seperate place on the site."
      ],
      "metadata": {
        "id": "NvDg-kSlXKpr"
      }
    },
    {
      "cell_type": "code",
      "source": [
        "def get_War(soup):\n",
        "  highlights = soup.find(\"div\", attrs={'class' : 'stats_pullout'})\n",
        "  values = highlights.find('span', attrs={'class' : 'poptip', 'data-tip' : '<strong>Wins Above Replacement</strong><br>A single number that presents the number of wins the player added<br>to the team above what a replacement player (think AAA or AAAA) would add.<br>Scale for a single-season: 8+ MVP Quality, 5+ All-Star Quality, 2+ Starter,<br>0-2 Reserve, < 0 Replacement Level  <br>Developed by Sean Smith of BaseballProjection.com'})\n",
        "\n",
        "  return float(values.find_next_sibling('p').get_text(strip=True))\n",
        "\n",
        "def get_rookie_season(df_player):\n",
        "  df_player = df_player[df_player[\"Lg\"].isin([\"AL\", 'NL'])] # this filters out the minor league rows\n",
        "  df_player[\"G\"] = pd.to_numeric(df_player[\"G\"]) # convert games to integer\n",
        "  df_player = df_player[df_player[\"G\"] >= 40] # filter to seasons over 40 games (rookie qualification)\n",
        "  return df_player.iloc[0] # get the first 40 game season\n"
      ],
      "metadata": {
        "id": "8tn3lnx-dc2V"
      },
      "execution_count": null,
      "outputs": []
    },
    {
      "cell_type": "markdown",
      "source": [
        "Here we scrape the data from Baseball Reference. Player ID's are used in the URL to indicate player page, so we iterate through the file containing player extensions and scrape data for each qualifying player. We want to scrape the feature table and WAR all in one call, so we use the helper functions defined above to successfully scrape the rookie season data and career WAR for each player who had finished their career between 1940 and 2023."
      ],
      "metadata": {
        "id": "poS8rbBFXnpz"
      }
    },
    {
      "cell_type": "code",
      "execution_count": null,
      "metadata": {
        "id": "vwl2L80QbS9t",
        "colab": {
          "base_uri": "https://localhost:8080/",
          "height": 1000
        },
        "outputId": "9c097f99-3cc6-42ea-f34d-51aad1496e20"
      },
      "outputs": [
        {
          "output_type": "stream",
          "name": "stdout",
          "text": [
            "pitcher\n",
            "pitcher\n"
          ]
        },
        {
          "output_type": "stream",
          "name": "stderr",
          "text": [
            "<ipython-input-3-39553ff2ec0b>:9: SettingWithCopyWarning: \n",
            "A value is trying to be set on a copy of a slice from a DataFrame.\n",
            "Try using .loc[row_indexer,col_indexer] = value instead\n",
            "\n",
            "See the caveats in the documentation: https://pandas.pydata.org/pandas-docs/stable/user_guide/indexing.html#returning-a-view-versus-a-copy\n",
            "  df_player[\"G\"] = pd.to_numeric(df_player[\"G\"]) # convert games to integer\n"
          ]
        },
        {
          "output_type": "stream",
          "name": "stdout",
          "text": [
            "pitcher\n",
            "pitcher\n"
          ]
        },
        {
          "output_type": "stream",
          "name": "stderr",
          "text": [
            "<ipython-input-3-39553ff2ec0b>:9: SettingWithCopyWarning: \n",
            "A value is trying to be set on a copy of a slice from a DataFrame.\n",
            "Try using .loc[row_indexer,col_indexer] = value instead\n",
            "\n",
            "See the caveats in the documentation: https://pandas.pydata.org/pandas-docs/stable/user_guide/indexing.html#returning-a-view-versus-a-copy\n",
            "  df_player[\"G\"] = pd.to_numeric(df_player[\"G\"]) # convert games to integer\n"
          ]
        },
        {
          "output_type": "stream",
          "name": "stdout",
          "text": [
            "/players/a/abbotje01.shtml\n",
            "pitcher\n"
          ]
        },
        {
          "output_type": "stream",
          "name": "stderr",
          "text": [
            "<ipython-input-3-39553ff2ec0b>:9: SettingWithCopyWarning: \n",
            "A value is trying to be set on a copy of a slice from a DataFrame.\n",
            "Try using .loc[row_indexer,col_indexer] = value instead\n",
            "\n",
            "See the caveats in the documentation: https://pandas.pydata.org/pandas-docs/stable/user_guide/indexing.html#returning-a-view-versus-a-copy\n",
            "  df_player[\"G\"] = pd.to_numeric(df_player[\"G\"]) # convert games to integer\n"
          ]
        },
        {
          "output_type": "stream",
          "name": "stdout",
          "text": [
            "/players/a/abbotku01.shtml\n",
            "pitcher\n",
            "pitcher\n"
          ]
        },
        {
          "output_type": "stream",
          "name": "stderr",
          "text": [
            "<ipython-input-3-39553ff2ec0b>:9: SettingWithCopyWarning: \n",
            "A value is trying to be set on a copy of a slice from a DataFrame.\n",
            "Try using .loc[row_indexer,col_indexer] = value instead\n",
            "\n",
            "See the caveats in the documentation: https://pandas.pydata.org/pandas-docs/stable/user_guide/indexing.html#returning-a-view-versus-a-copy\n",
            "  df_player[\"G\"] = pd.to_numeric(df_player[\"G\"]) # convert games to integer\n"
          ]
        },
        {
          "output_type": "stream",
          "name": "stdout",
          "text": [
            "/players/a/abercre01.shtml\n"
          ]
        },
        {
          "output_type": "stream",
          "name": "stderr",
          "text": [
            "<ipython-input-3-39553ff2ec0b>:9: SettingWithCopyWarning: \n",
            "A value is trying to be set on a copy of a slice from a DataFrame.\n",
            "Try using .loc[row_indexer,col_indexer] = value instead\n",
            "\n",
            "See the caveats in the documentation: https://pandas.pydata.org/pandas-docs/stable/user_guide/indexing.html#returning-a-view-versus-a-copy\n",
            "  df_player[\"G\"] = pd.to_numeric(df_player[\"G\"]) # convert games to integer\n"
          ]
        },
        {
          "output_type": "stream",
          "name": "stdout",
          "text": [
            "/players/a/abernbr01.shtml\n"
          ]
        },
        {
          "output_type": "stream",
          "name": "stderr",
          "text": [
            "<ipython-input-3-39553ff2ec0b>:9: SettingWithCopyWarning: \n",
            "A value is trying to be set on a copy of a slice from a DataFrame.\n",
            "Try using .loc[row_indexer,col_indexer] = value instead\n",
            "\n",
            "See the caveats in the documentation: https://pandas.pydata.org/pandas-docs/stable/user_guide/indexing.html#returning-a-view-versus-a-copy\n",
            "  df_player[\"G\"] = pd.to_numeric(df_player[\"G\"]) # convert games to integer\n"
          ]
        },
        {
          "output_type": "stream",
          "name": "stdout",
          "text": [
            "/players/a/abnersh01.shtml\n",
            "pitcher\n"
          ]
        },
        {
          "output_type": "stream",
          "name": "stderr",
          "text": [
            "<ipython-input-3-39553ff2ec0b>:9: SettingWithCopyWarning: \n",
            "A value is trying to be set on a copy of a slice from a DataFrame.\n",
            "Try using .loc[row_indexer,col_indexer] = value instead\n",
            "\n",
            "See the caveats in the documentation: https://pandas.pydata.org/pandas-docs/stable/user_guide/indexing.html#returning-a-view-versus-a-copy\n",
            "  df_player[\"G\"] = pd.to_numeric(df_player[\"G\"]) # convert games to integer\n"
          ]
        },
        {
          "output_type": "stream",
          "name": "stdout",
          "text": [
            "/players/a/abreubo01.shtml\n",
            "pitcher\n"
          ]
        },
        {
          "output_type": "stream",
          "name": "stderr",
          "text": [
            "<ipython-input-3-39553ff2ec0b>:9: SettingWithCopyWarning: \n",
            "A value is trying to be set on a copy of a slice from a DataFrame.\n",
            "Try using .loc[row_indexer,col_indexer] = value instead\n",
            "\n",
            "See the caveats in the documentation: https://pandas.pydata.org/pandas-docs/stable/user_guide/indexing.html#returning-a-view-versus-a-copy\n",
            "  df_player[\"G\"] = pd.to_numeric(df_player[\"G\"]) # convert games to integer\n"
          ]
        },
        {
          "output_type": "stream",
          "name": "stdout",
          "text": [
            "/players/a/abreuto01.shtml\n",
            "pitcher\n",
            "pitcher\n",
            "pitcher\n",
            "pitcher\n",
            "pitcher\n",
            "pitcher\n",
            "pitcher\n"
          ]
        },
        {
          "output_type": "stream",
          "name": "stderr",
          "text": [
            "<ipython-input-3-39553ff2ec0b>:9: SettingWithCopyWarning: \n",
            "A value is trying to be set on a copy of a slice from a DataFrame.\n",
            "Try using .loc[row_indexer,col_indexer] = value instead\n",
            "\n",
            "See the caveats in the documentation: https://pandas.pydata.org/pandas-docs/stable/user_guide/indexing.html#returning-a-view-versus-a-copy\n",
            "  df_player[\"G\"] = pd.to_numeric(df_player[\"G\"]) # convert games to integer\n"
          ]
        },
        {
          "output_type": "stream",
          "name": "stdout",
          "text": [
            "/players/a/ackledu01.shtml\n",
            "pitcher\n",
            "pitcher\n"
          ]
        },
        {
          "output_type": "stream",
          "name": "stderr",
          "text": [
            "<ipython-input-3-39553ff2ec0b>:9: SettingWithCopyWarning: \n",
            "A value is trying to be set on a copy of a slice from a DataFrame.\n",
            "Try using .loc[row_indexer,col_indexer] = value instead\n",
            "\n",
            "See the caveats in the documentation: https://pandas.pydata.org/pandas-docs/stable/user_guide/indexing.html#returning-a-view-versus-a-copy\n",
            "  df_player[\"G\"] = pd.to_numeric(df_player[\"G\"]) # convert games to integer\n"
          ]
        },
        {
          "output_type": "stream",
          "name": "stdout",
          "text": [
            "/players/a/adamecr01.shtml\n",
            "pitcher\n",
            "pitcher\n"
          ]
        },
        {
          "output_type": "stream",
          "name": "stderr",
          "text": [
            "<ipython-input-3-39553ff2ec0b>:9: SettingWithCopyWarning: \n",
            "A value is trying to be set on a copy of a slice from a DataFrame.\n",
            "Try using .loc[row_indexer,col_indexer] = value instead\n",
            "\n",
            "See the caveats in the documentation: https://pandas.pydata.org/pandas-docs/stable/user_guide/indexing.html#returning-a-view-versus-a-copy\n",
            "  df_player[\"G\"] = pd.to_numeric(df_player[\"G\"]) # convert games to integer\n"
          ]
        },
        {
          "output_type": "stream",
          "name": "stdout",
          "text": [
            "/players/a/adamsda02.shtml\n"
          ]
        },
        {
          "output_type": "stream",
          "name": "stderr",
          "text": [
            "<ipython-input-3-39553ff2ec0b>:9: SettingWithCopyWarning: \n",
            "A value is trying to be set on a copy of a slice from a DataFrame.\n",
            "Try using .loc[row_indexer,col_indexer] = value instead\n",
            "\n",
            "See the caveats in the documentation: https://pandas.pydata.org/pandas-docs/stable/user_guide/indexing.html#returning-a-view-versus-a-copy\n",
            "  df_player[\"G\"] = pd.to_numeric(df_player[\"G\"]) # convert games to integer\n"
          ]
        },
        {
          "output_type": "stream",
          "name": "stdout",
          "text": [
            "/players/a/adamsgl01.shtml\n"
          ]
        },
        {
          "output_type": "stream",
          "name": "stderr",
          "text": [
            "<ipython-input-3-39553ff2ec0b>:9: SettingWithCopyWarning: \n",
            "A value is trying to be set on a copy of a slice from a DataFrame.\n",
            "Try using .loc[row_indexer,col_indexer] = value instead\n",
            "\n",
            "See the caveats in the documentation: https://pandas.pydata.org/pandas-docs/stable/user_guide/indexing.html#returning-a-view-versus-a-copy\n",
            "  df_player[\"G\"] = pd.to_numeric(df_player[\"G\"]) # convert games to integer\n"
          ]
        },
        {
          "output_type": "stream",
          "name": "stdout",
          "text": [
            "/players/a/adamsla01.shtml\n"
          ]
        },
        {
          "output_type": "stream",
          "name": "stderr",
          "text": [
            "<ipython-input-3-39553ff2ec0b>:9: SettingWithCopyWarning: \n",
            "A value is trying to be set on a copy of a slice from a DataFrame.\n",
            "Try using .loc[row_indexer,col_indexer] = value instead\n",
            "\n",
            "See the caveats in the documentation: https://pandas.pydata.org/pandas-docs/stable/user_guide/indexing.html#returning-a-view-versus-a-copy\n",
            "  df_player[\"G\"] = pd.to_numeric(df_player[\"G\"]) # convert games to integer\n"
          ]
        },
        {
          "output_type": "stream",
          "name": "stdout",
          "text": [
            "/players/a/adamsma01.shtml\n",
            "pitcher\n"
          ]
        },
        {
          "output_type": "stream",
          "name": "stderr",
          "text": [
            "<ipython-input-3-39553ff2ec0b>:9: SettingWithCopyWarning: \n",
            "A value is trying to be set on a copy of a slice from a DataFrame.\n",
            "Try using .loc[row_indexer,col_indexer] = value instead\n",
            "\n",
            "See the caveats in the documentation: https://pandas.pydata.org/pandas-docs/stable/user_guide/indexing.html#returning-a-view-versus-a-copy\n",
            "  df_player[\"G\"] = pd.to_numeric(df_player[\"G\"]) # convert games to integer\n"
          ]
        },
        {
          "output_type": "stream",
          "name": "stdout",
          "text": [
            "/players/a/adamsri02.shtml\n"
          ]
        },
        {
          "output_type": "stream",
          "name": "stderr",
          "text": [
            "<ipython-input-3-39553ff2ec0b>:9: SettingWithCopyWarning: \n",
            "A value is trying to be set on a copy of a slice from a DataFrame.\n",
            "Try using .loc[row_indexer,col_indexer] = value instead\n",
            "\n",
            "See the caveats in the documentation: https://pandas.pydata.org/pandas-docs/stable/user_guide/indexing.html#returning-a-view-versus-a-copy\n",
            "  df_player[\"G\"] = pd.to_numeric(df_player[\"G\"]) # convert games to integer\n"
          ]
        },
        {
          "output_type": "stream",
          "name": "stdout",
          "text": [
            "/players/a/adamsru01.shtml\n"
          ]
        },
        {
          "output_type": "stream",
          "name": "stderr",
          "text": [
            "<ipython-input-3-39553ff2ec0b>:9: SettingWithCopyWarning: \n",
            "A value is trying to be set on a copy of a slice from a DataFrame.\n",
            "Try using .loc[row_indexer,col_indexer] = value instead\n",
            "\n",
            "See the caveats in the documentation: https://pandas.pydata.org/pandas-docs/stable/user_guide/indexing.html#returning-a-view-versus-a-copy\n",
            "  df_player[\"G\"] = pd.to_numeric(df_player[\"G\"]) # convert games to integer\n"
          ]
        },
        {
          "output_type": "stream",
          "name": "stdout",
          "text": [
            "pitcher\n",
            "pitcher\n",
            "pitcher\n",
            "pitcher\n",
            "pitcher\n"
          ]
        },
        {
          "output_type": "stream",
          "name": "stderr",
          "text": [
            "<ipython-input-3-39553ff2ec0b>:9: SettingWithCopyWarning: \n",
            "A value is trying to be set on a copy of a slice from a DataFrame.\n",
            "Try using .loc[row_indexer,col_indexer] = value instead\n",
            "\n",
            "See the caveats in the documentation: https://pandas.pydata.org/pandas-docs/stable/user_guide/indexing.html#returning-a-view-versus-a-copy\n",
            "  df_player[\"G\"] = pd.to_numeric(df_player[\"G\"]) # convert games to integer\n"
          ]
        },
        {
          "output_type": "stream",
          "name": "stdout",
          "text": [
            "/players/a/adducji01.shtml\n"
          ]
        },
        {
          "output_type": "stream",
          "name": "stderr",
          "text": [
            "<ipython-input-3-39553ff2ec0b>:9: SettingWithCopyWarning: \n",
            "A value is trying to be set on a copy of a slice from a DataFrame.\n",
            "Try using .loc[row_indexer,col_indexer] = value instead\n",
            "\n",
            "See the caveats in the documentation: https://pandas.pydata.org/pandas-docs/stable/user_guide/indexing.html#returning-a-view-versus-a-copy\n",
            "  df_player[\"G\"] = pd.to_numeric(df_player[\"G\"]) # convert games to integer\n"
          ]
        },
        {
          "output_type": "stream",
          "name": "stdout",
          "text": [
            "/players/a/adducji02.shtml\n",
            "pitcher\n",
            "pitcher\n",
            "pitcher\n",
            "pitcher\n"
          ]
        },
        {
          "output_type": "stream",
          "name": "stderr",
          "text": [
            "<ipython-input-3-39553ff2ec0b>:9: SettingWithCopyWarning: \n",
            "A value is trying to be set on a copy of a slice from a DataFrame.\n",
            "Try using .loc[row_indexer,col_indexer] = value instead\n",
            "\n",
            "See the caveats in the documentation: https://pandas.pydata.org/pandas-docs/stable/user_guide/indexing.html#returning-a-view-versus-a-copy\n",
            "  df_player[\"G\"] = pd.to_numeric(df_player[\"G\"]) # convert games to integer\n"
          ]
        },
        {
          "output_type": "stream",
          "name": "stdout",
          "text": [
            "pitcher\n",
            "pitcher\n"
          ]
        },
        {
          "output_type": "stream",
          "name": "stderr",
          "text": [
            "<ipython-input-3-39553ff2ec0b>:9: SettingWithCopyWarning: \n",
            "A value is trying to be set on a copy of a slice from a DataFrame.\n",
            "Try using .loc[row_indexer,col_indexer] = value instead\n",
            "\n",
            "See the caveats in the documentation: https://pandas.pydata.org/pandas-docs/stable/user_guide/indexing.html#returning-a-view-versus-a-copy\n",
            "  df_player[\"G\"] = pd.to_numeric(df_player[\"G\"]) # convert games to integer\n"
          ]
        },
        {
          "output_type": "stream",
          "name": "stdout",
          "text": [
            "/players/a/agbaybe01.shtml\n",
            "pitcher\n",
            "pitcher\n"
          ]
        },
        {
          "output_type": "stream",
          "name": "stderr",
          "text": [
            "<ipython-input-3-39553ff2ec0b>:9: SettingWithCopyWarning: \n",
            "A value is trying to be set on a copy of a slice from a DataFrame.\n",
            "Try using .loc[row_indexer,col_indexer] = value instead\n",
            "\n",
            "See the caveats in the documentation: https://pandas.pydata.org/pandas-docs/stable/user_guide/indexing.html#returning-a-view-versus-a-copy\n",
            "  df_player[\"G\"] = pd.to_numeric(df_player[\"G\"]) # convert games to integer\n"
          ]
        },
        {
          "output_type": "stream",
          "name": "stdout",
          "text": [
            "/players/a/aguaylu01.shtml\n"
          ]
        },
        {
          "output_type": "stream",
          "name": "stderr",
          "text": [
            "<ipython-input-3-39553ff2ec0b>:9: SettingWithCopyWarning: \n",
            "A value is trying to be set on a copy of a slice from a DataFrame.\n",
            "Try using .loc[row_indexer,col_indexer] = value instead\n",
            "\n",
            "See the caveats in the documentation: https://pandas.pydata.org/pandas-docs/stable/user_guide/indexing.html#returning-a-view-versus-a-copy\n",
            "  df_player[\"G\"] = pd.to_numeric(df_player[\"G\"]) # convert games to integer\n"
          ]
        },
        {
          "output_type": "stream",
          "name": "stdout",
          "text": [
            "/players/a/aguilch01.shtml\n",
            "pitcher\n"
          ]
        },
        {
          "output_type": "stream",
          "name": "stderr",
          "text": [
            "<ipython-input-3-39553ff2ec0b>:9: SettingWithCopyWarning: \n",
            "A value is trying to be set on a copy of a slice from a DataFrame.\n",
            "Try using .loc[row_indexer,col_indexer] = value instead\n",
            "\n",
            "See the caveats in the documentation: https://pandas.pydata.org/pandas-docs/stable/user_guide/indexing.html#returning-a-view-versus-a-copy\n",
            "  df_player[\"G\"] = pd.to_numeric(df_player[\"G\"]) # convert games to integer\n"
          ]
        },
        {
          "output_type": "stream",
          "name": "stdout",
          "text": [
            "pitcher\n",
            "pitcher\n",
            "pitcher\n"
          ]
        },
        {
          "output_type": "stream",
          "name": "stderr",
          "text": [
            "<ipython-input-3-39553ff2ec0b>:9: SettingWithCopyWarning: \n",
            "A value is trying to be set on a copy of a slice from a DataFrame.\n",
            "Try using .loc[row_indexer,col_indexer] = value instead\n",
            "\n",
            "See the caveats in the documentation: https://pandas.pydata.org/pandas-docs/stable/user_guide/indexing.html#returning-a-view-versus-a-copy\n",
            "  df_player[\"G\"] = pd.to_numeric(df_player[\"G\"]) # convert games to integer\n"
          ]
        },
        {
          "output_type": "stream",
          "name": "stdout",
          "text": [
            "/players/a/aikenwi01.shtml\n"
          ]
        },
        {
          "output_type": "stream",
          "name": "stderr",
          "text": [
            "<ipython-input-3-39553ff2ec0b>:9: SettingWithCopyWarning: \n",
            "A value is trying to be set on a copy of a slice from a DataFrame.\n",
            "Try using .loc[row_indexer,col_indexer] = value instead\n",
            "\n",
            "See the caveats in the documentation: https://pandas.pydata.org/pandas-docs/stable/user_guide/indexing.html#returning-a-view-versus-a-copy\n",
            "  df_player[\"G\"] = pd.to_numeric(df_player[\"G\"]) # convert games to integer\n"
          ]
        },
        {
          "output_type": "stream",
          "name": "stdout",
          "text": [
            "/players/a/aingeda01.shtml\n",
            "pitcher\n",
            "pitcher\n"
          ]
        },
        {
          "output_type": "stream",
          "name": "stderr",
          "text": [
            "<ipython-input-3-39553ff2ec0b>:9: SettingWithCopyWarning: \n",
            "A value is trying to be set on a copy of a slice from a DataFrame.\n",
            "Try using .loc[row_indexer,col_indexer] = value instead\n",
            "\n",
            "See the caveats in the documentation: https://pandas.pydata.org/pandas-docs/stable/user_guide/indexing.html#returning-a-view-versus-a-copy\n",
            "  df_player[\"G\"] = pd.to_numeric(df_player[\"G\"]) # convert games to integer\n"
          ]
        },
        {
          "output_type": "stream",
          "name": "stdout",
          "text": [
            "/players/a/akiyash01.shtml\n",
            "pitcher\n",
            "pitcher\n",
            "pitcher\n",
            "pitcher\n",
            "pitcher\n",
            "pitcher\n",
            "pitcher\n"
          ]
        },
        {
          "output_type": "stream",
          "name": "stderr",
          "text": [
            "<ipython-input-3-39553ff2ec0b>:9: SettingWithCopyWarning: \n",
            "A value is trying to be set on a copy of a slice from a DataFrame.\n",
            "Try using .loc[row_indexer,col_indexer] = value instead\n",
            "\n",
            "See the caveats in the documentation: https://pandas.pydata.org/pandas-docs/stable/user_guide/indexing.html#returning-a-view-versus-a-copy\n",
            "  df_player[\"G\"] = pd.to_numeric(df_player[\"G\"]) # convert games to integer\n"
          ]
        },
        {
          "output_type": "stream",
          "name": "stdout",
          "text": [
            "/players/a/alcanar01.shtml\n"
          ]
        },
        {
          "output_type": "stream",
          "name": "stderr",
          "text": [
            "<ipython-input-3-39553ff2ec0b>:9: SettingWithCopyWarning: \n",
            "A value is trying to be set on a copy of a slice from a DataFrame.\n",
            "Try using .loc[row_indexer,col_indexer] = value instead\n",
            "\n",
            "See the caveats in the documentation: https://pandas.pydata.org/pandas-docs/stable/user_guide/indexing.html#returning-a-view-versus-a-copy\n",
            "  df_player[\"G\"] = pd.to_numeric(df_player[\"G\"]) # convert games to integer\n"
          ]
        },
        {
          "output_type": "stream",
          "name": "stdout",
          "text": [
            "pitcher\n",
            "pitcher\n"
          ]
        },
        {
          "output_type": "stream",
          "name": "stderr",
          "text": [
            "<ipython-input-3-39553ff2ec0b>:9: SettingWithCopyWarning: \n",
            "A value is trying to be set on a copy of a slice from a DataFrame.\n",
            "Try using .loc[row_indexer,col_indexer] = value instead\n",
            "\n",
            "See the caveats in the documentation: https://pandas.pydata.org/pandas-docs/stable/user_guide/indexing.html#returning-a-view-versus-a-copy\n",
            "  df_player[\"G\"] = pd.to_numeric(df_player[\"G\"]) # convert games to integer\n"
          ]
        },
        {
          "output_type": "stream",
          "name": "stdout",
          "text": [
            "/players/a/alcanse01.shtml\n",
            "pitcher\n",
            "pitcher\n"
          ]
        },
        {
          "output_type": "stream",
          "name": "stderr",
          "text": [
            "<ipython-input-3-39553ff2ec0b>:9: SettingWithCopyWarning: \n",
            "A value is trying to be set on a copy of a slice from a DataFrame.\n",
            "Try using .loc[row_indexer,col_indexer] = value instead\n",
            "\n",
            "See the caveats in the documentation: https://pandas.pydata.org/pandas-docs/stable/user_guide/indexing.html#returning-a-view-versus-a-copy\n",
            "  df_player[\"G\"] = pd.to_numeric(df_player[\"G\"]) # convert games to integer\n"
          ]
        },
        {
          "output_type": "stream",
          "name": "stdout",
          "text": [
            "/players/a/aldremi01.shtml\n",
            "pitcher\n"
          ]
        },
        {
          "output_type": "stream",
          "name": "stderr",
          "text": [
            "<ipython-input-3-39553ff2ec0b>:9: SettingWithCopyWarning: \n",
            "A value is trying to be set on a copy of a slice from a DataFrame.\n",
            "Try using .loc[row_indexer,col_indexer] = value instead\n",
            "\n",
            "See the caveats in the documentation: https://pandas.pydata.org/pandas-docs/stable/user_guide/indexing.html#returning-a-view-versus-a-copy\n",
            "  df_player[\"G\"] = pd.to_numeric(df_player[\"G\"]) # convert games to integer\n"
          ]
        },
        {
          "output_type": "stream",
          "name": "stdout",
          "text": [
            "pitcher\n",
            "pitcher\n"
          ]
        },
        {
          "output_type": "stream",
          "name": "stderr",
          "text": [
            "<ipython-input-3-39553ff2ec0b>:9: SettingWithCopyWarning: \n",
            "A value is trying to be set on a copy of a slice from a DataFrame.\n",
            "Try using .loc[row_indexer,col_indexer] = value instead\n",
            "\n",
            "See the caveats in the documentation: https://pandas.pydata.org/pandas-docs/stable/user_guide/indexing.html#returning-a-view-versus-a-copy\n",
            "  df_player[\"G\"] = pd.to_numeric(df_player[\"G\"]) # convert games to integer\n"
          ]
        },
        {
          "output_type": "stream",
          "name": "stdout",
          "text": [
            "/players/a/alexaga01.shtml\n",
            "pitcher\n",
            "pitcher\n"
          ]
        },
        {
          "output_type": "stream",
          "name": "stderr",
          "text": [
            "<ipython-input-3-39553ff2ec0b>:9: SettingWithCopyWarning: \n",
            "A value is trying to be set on a copy of a slice from a DataFrame.\n",
            "Try using .loc[row_indexer,col_indexer] = value instead\n",
            "\n",
            "See the caveats in the documentation: https://pandas.pydata.org/pandas-docs/stable/user_guide/indexing.html#returning-a-view-versus-a-copy\n",
            "  df_player[\"G\"] = pd.to_numeric(df_player[\"G\"]) # convert games to integer\n"
          ]
        },
        {
          "output_type": "stream",
          "name": "stdout",
          "text": [
            "/players/a/alexama02.shtml\n"
          ]
        },
        {
          "output_type": "stream",
          "name": "stderr",
          "text": [
            "<ipython-input-3-39553ff2ec0b>:9: SettingWithCopyWarning: \n",
            "A value is trying to be set on a copy of a slice from a DataFrame.\n",
            "Try using .loc[row_indexer,col_indexer] = value instead\n",
            "\n",
            "See the caveats in the documentation: https://pandas.pydata.org/pandas-docs/stable/user_guide/indexing.html#returning-a-view-versus-a-copy\n",
            "  df_player[\"G\"] = pd.to_numeric(df_player[\"G\"]) # convert games to integer\n"
          ]
        },
        {
          "output_type": "stream",
          "name": "stdout",
          "text": [
            "/players/a/alexama01.shtml\n",
            "pitcher\n"
          ]
        },
        {
          "output_type": "stream",
          "name": "stderr",
          "text": [
            "<ipython-input-3-39553ff2ec0b>:9: SettingWithCopyWarning: \n",
            "A value is trying to be set on a copy of a slice from a DataFrame.\n",
            "Try using .loc[row_indexer,col_indexer] = value instead\n",
            "\n",
            "See the caveats in the documentation: https://pandas.pydata.org/pandas-docs/stable/user_guide/indexing.html#returning-a-view-versus-a-copy\n",
            "  df_player[\"G\"] = pd.to_numeric(df_player[\"G\"]) # convert games to integer\n"
          ]
        },
        {
          "output_type": "stream",
          "name": "stdout",
          "text": [
            "pitcher\n",
            "pitcher\n"
          ]
        },
        {
          "output_type": "stream",
          "name": "stderr",
          "text": [
            "<ipython-input-3-39553ff2ec0b>:9: SettingWithCopyWarning: \n",
            "A value is trying to be set on a copy of a slice from a DataFrame.\n",
            "Try using .loc[row_indexer,col_indexer] = value instead\n",
            "\n",
            "See the caveats in the documentation: https://pandas.pydata.org/pandas-docs/stable/user_guide/indexing.html#returning-a-view-versus-a-copy\n",
            "  df_player[\"G\"] = pd.to_numeric(df_player[\"G\"]) # convert games to integer\n"
          ]
        },
        {
          "output_type": "stream",
          "name": "stdout",
          "text": [
            "/players/a/alfoned01.shtml\n"
          ]
        },
        {
          "output_type": "stream",
          "name": "stderr",
          "text": [
            "<ipython-input-3-39553ff2ec0b>:9: SettingWithCopyWarning: \n",
            "A value is trying to be set on a copy of a slice from a DataFrame.\n",
            "Try using .loc[row_indexer,col_indexer] = value instead\n",
            "\n",
            "See the caveats in the documentation: https://pandas.pydata.org/pandas-docs/stable/user_guide/indexing.html#returning-a-view-versus-a-copy\n",
            "  df_player[\"G\"] = pd.to_numeric(df_player[\"G\"]) # convert games to integer\n"
          ]
        },
        {
          "output_type": "stream",
          "name": "stdout",
          "text": [
            "/players/a/alfonel01.shtml\n"
          ]
        },
        {
          "output_type": "stream",
          "name": "stderr",
          "text": [
            "<ipython-input-3-39553ff2ec0b>:9: SettingWithCopyWarning: \n",
            "A value is trying to be set on a copy of a slice from a DataFrame.\n",
            "Try using .loc[row_indexer,col_indexer] = value instead\n",
            "\n",
            "See the caveats in the documentation: https://pandas.pydata.org/pandas-docs/stable/user_guide/indexing.html#returning-a-view-versus-a-copy\n",
            "  df_player[\"G\"] = pd.to_numeric(df_player[\"G\"]) # convert games to integer\n"
          ]
        },
        {
          "output_type": "stream",
          "name": "stdout",
          "text": [
            "/players/a/alforan01.shtml\n"
          ]
        },
        {
          "output_type": "stream",
          "name": "stderr",
          "text": [
            "<ipython-input-3-39553ff2ec0b>:9: SettingWithCopyWarning: \n",
            "A value is trying to be set on a copy of a slice from a DataFrame.\n",
            "Try using .loc[row_indexer,col_indexer] = value instead\n",
            "\n",
            "See the caveats in the documentation: https://pandas.pydata.org/pandas-docs/stable/user_guide/indexing.html#returning-a-view-versus-a-copy\n",
            "  df_player[\"G\"] = pd.to_numeric(df_player[\"G\"]) # convert games to integer\n"
          ]
        },
        {
          "output_type": "stream",
          "name": "stdout",
          "text": [
            "/players/a/alicelu01.shtml\n"
          ]
        },
        {
          "output_type": "stream",
          "name": "stderr",
          "text": [
            "<ipython-input-3-39553ff2ec0b>:9: SettingWithCopyWarning: \n",
            "A value is trying to be set on a copy of a slice from a DataFrame.\n",
            "Try using .loc[row_indexer,col_indexer] = value instead\n",
            "\n",
            "See the caveats in the documentation: https://pandas.pydata.org/pandas-docs/stable/user_guide/indexing.html#returning-a-view-versus-a-copy\n",
            "  df_player[\"G\"] = pd.to_numeric(df_player[\"G\"]) # convert games to integer\n"
          ]
        },
        {
          "output_type": "stream",
          "name": "stdout",
          "text": [
            "/players/a/allanan01.shtml\n",
            "pitcher\n",
            "pitcher\n"
          ]
        },
        {
          "output_type": "stream",
          "name": "stderr",
          "text": [
            "<ipython-input-3-39553ff2ec0b>:9: SettingWithCopyWarning: \n",
            "A value is trying to be set on a copy of a slice from a DataFrame.\n",
            "Try using .loc[row_indexer,col_indexer] = value instead\n",
            "\n",
            "See the caveats in the documentation: https://pandas.pydata.org/pandas-docs/stable/user_guide/indexing.html#returning-a-view-versus-a-copy\n",
            "  df_player[\"G\"] = pd.to_numeric(df_player[\"G\"]) # convert games to integer\n"
          ]
        },
        {
          "output_type": "stream",
          "name": "stdout",
          "text": [
            "pitcher\n"
          ]
        },
        {
          "output_type": "stream",
          "name": "stderr",
          "text": [
            "<ipython-input-3-39553ff2ec0b>:9: SettingWithCopyWarning: \n",
            "A value is trying to be set on a copy of a slice from a DataFrame.\n",
            "Try using .loc[row_indexer,col_indexer] = value instead\n",
            "\n",
            "See the caveats in the documentation: https://pandas.pydata.org/pandas-docs/stable/user_guide/indexing.html#returning-a-view-versus-a-copy\n",
            "  df_player[\"G\"] = pd.to_numeric(df_player[\"G\"]) # convert games to integer\n"
          ]
        },
        {
          "output_type": "stream",
          "name": "stdout",
          "text": [
            "/players/a/allenbr01.shtml\n"
          ]
        },
        {
          "output_type": "stream",
          "name": "stderr",
          "text": [
            "<ipython-input-3-39553ff2ec0b>:9: SettingWithCopyWarning: \n",
            "A value is trying to be set on a copy of a slice from a DataFrame.\n",
            "Try using .loc[row_indexer,col_indexer] = value instead\n",
            "\n",
            "See the caveats in the documentation: https://pandas.pydata.org/pandas-docs/stable/user_guide/indexing.html#returning-a-view-versus-a-copy\n",
            "  df_player[\"G\"] = pd.to_numeric(df_player[\"G\"]) # convert games to integer\n"
          ]
        },
        {
          "output_type": "stream",
          "name": "stdout",
          "text": [
            "/players/a/allench01.shtml\n",
            "pitcher\n"
          ]
        },
        {
          "output_type": "stream",
          "name": "stderr",
          "text": [
            "<ipython-input-3-39553ff2ec0b>:9: SettingWithCopyWarning: \n",
            "A value is trying to be set on a copy of a slice from a DataFrame.\n",
            "Try using .loc[row_indexer,col_indexer] = value instead\n",
            "\n",
            "See the caveats in the documentation: https://pandas.pydata.org/pandas-docs/stable/user_guide/indexing.html#returning-a-view-versus-a-copy\n",
            "  df_player[\"G\"] = pd.to_numeric(df_player[\"G\"]) # convert games to integer\n"
          ]
        },
        {
          "output_type": "stream",
          "name": "stdout",
          "text": [
            "pitcher\n"
          ]
        },
        {
          "output_type": "stream",
          "name": "stderr",
          "text": [
            "<ipython-input-3-39553ff2ec0b>:9: SettingWithCopyWarning: \n",
            "A value is trying to be set on a copy of a slice from a DataFrame.\n",
            "Try using .loc[row_indexer,col_indexer] = value instead\n",
            "\n",
            "See the caveats in the documentation: https://pandas.pydata.org/pandas-docs/stable/user_guide/indexing.html#returning-a-view-versus-a-copy\n",
            "  df_player[\"G\"] = pd.to_numeric(df_player[\"G\"]) # convert games to integer\n"
          ]
        },
        {
          "output_type": "stream",
          "name": "stdout",
          "text": [
            "/players/a/allenja02.shtml\n"
          ]
        },
        {
          "output_type": "stream",
          "name": "stderr",
          "text": [
            "<ipython-input-3-39553ff2ec0b>:9: SettingWithCopyWarning: \n",
            "A value is trying to be set on a copy of a slice from a DataFrame.\n",
            "Try using .loc[row_indexer,col_indexer] = value instead\n",
            "\n",
            "See the caveats in the documentation: https://pandas.pydata.org/pandas-docs/stable/user_guide/indexing.html#returning-a-view-versus-a-copy\n",
            "  df_player[\"G\"] = pd.to_numeric(df_player[\"G\"]) # convert games to integer\n"
          ]
        },
        {
          "output_type": "stream",
          "name": "stdout",
          "text": [
            "pitcher\n",
            "pitcher\n"
          ]
        },
        {
          "output_type": "stream",
          "name": "stderr",
          "text": [
            "<ipython-input-3-39553ff2ec0b>:9: SettingWithCopyWarning: \n",
            "A value is trying to be set on a copy of a slice from a DataFrame.\n",
            "Try using .loc[row_indexer,col_indexer] = value instead\n",
            "\n",
            "See the caveats in the documentation: https://pandas.pydata.org/pandas-docs/stable/user_guide/indexing.html#returning-a-view-versus-a-copy\n",
            "  df_player[\"G\"] = pd.to_numeric(df_player[\"G\"]) # convert games to integer\n"
          ]
        },
        {
          "output_type": "stream",
          "name": "stdout",
          "text": [
            "pitcher\n",
            "pitcher\n"
          ]
        },
        {
          "output_type": "stream",
          "name": "stderr",
          "text": [
            "<ipython-input-3-39553ff2ec0b>:9: SettingWithCopyWarning: \n",
            "A value is trying to be set on a copy of a slice from a DataFrame.\n",
            "Try using .loc[row_indexer,col_indexer] = value instead\n",
            "\n",
            "See the caveats in the documentation: https://pandas.pydata.org/pandas-docs/stable/user_guide/indexing.html#returning-a-view-versus-a-copy\n",
            "  df_player[\"G\"] = pd.to_numeric(df_player[\"G\"]) # convert games to integer\n"
          ]
        },
        {
          "output_type": "stream",
          "name": "stdout",
          "text": [
            "pitcher\n"
          ]
        },
        {
          "output_type": "stream",
          "name": "stderr",
          "text": [
            "<ipython-input-3-39553ff2ec0b>:9: SettingWithCopyWarning: \n",
            "A value is trying to be set on a copy of a slice from a DataFrame.\n",
            "Try using .loc[row_indexer,col_indexer] = value instead\n",
            "\n",
            "See the caveats in the documentation: https://pandas.pydata.org/pandas-docs/stable/user_guide/indexing.html#returning-a-view-versus-a-copy\n",
            "  df_player[\"G\"] = pd.to_numeric(df_player[\"G\"]) # convert games to integer\n"
          ]
        },
        {
          "output_type": "stream",
          "name": "stdout",
          "text": [
            "/players/a/allenga01.shtml\n"
          ]
        },
        {
          "output_type": "stream",
          "name": "stderr",
          "text": [
            "<ipython-input-3-39553ff2ec0b>:9: SettingWithCopyWarning: \n",
            "A value is trying to be set on a copy of a slice from a DataFrame.\n",
            "Try using .loc[row_indexer,col_indexer] = value instead\n",
            "\n",
            "See the caveats in the documentation: https://pandas.pydata.org/pandas-docs/stable/user_guide/indexing.html#returning-a-view-versus-a-copy\n",
            "  df_player[\"G\"] = pd.to_numeric(df_player[\"G\"]) # convert games to integer\n"
          ]
        },
        {
          "output_type": "stream",
          "name": "stdout",
          "text": [
            "/players/a/allenje01.shtml\n",
            "pitcher\n",
            "pitcher\n"
          ]
        },
        {
          "output_type": "stream",
          "name": "stderr",
          "text": [
            "<ipython-input-3-39553ff2ec0b>:9: SettingWithCopyWarning: \n",
            "A value is trying to be set on a copy of a slice from a DataFrame.\n",
            "Try using .loc[row_indexer,col_indexer] = value instead\n",
            "\n",
            "See the caveats in the documentation: https://pandas.pydata.org/pandas-docs/stable/user_guide/indexing.html#returning-a-view-versus-a-copy\n",
            "  df_player[\"G\"] = pd.to_numeric(df_player[\"G\"]) # convert games to integer\n"
          ]
        },
        {
          "output_type": "stream",
          "name": "stdout",
          "text": [
            "/players/a/allrebe01.shtml\n",
            "pitcher\n",
            "pitcher\n"
          ]
        },
        {
          "output_type": "stream",
          "name": "stderr",
          "text": [
            "<ipython-input-3-39553ff2ec0b>:9: SettingWithCopyWarning: \n",
            "A value is trying to be set on a copy of a slice from a DataFrame.\n",
            "Try using .loc[row_indexer,col_indexer] = value instead\n",
            "\n",
            "See the caveats in the documentation: https://pandas.pydata.org/pandas-docs/stable/user_guide/indexing.html#returning-a-view-versus-a-copy\n",
            "  df_player[\"G\"] = pd.to_numeric(df_player[\"G\"]) # convert games to integer\n"
          ]
        },
        {
          "output_type": "stream",
          "name": "stdout",
          "text": [
            "/players/a/almonbi01.shtml\n",
            "pitcher\n"
          ]
        },
        {
          "output_type": "stream",
          "name": "stderr",
          "text": [
            "<ipython-input-3-39553ff2ec0b>:9: SettingWithCopyWarning: \n",
            "A value is trying to be set on a copy of a slice from a DataFrame.\n",
            "Try using .loc[row_indexer,col_indexer] = value instead\n",
            "\n",
            "See the caveats in the documentation: https://pandas.pydata.org/pandas-docs/stable/user_guide/indexing.html#returning-a-view-versus-a-copy\n",
            "  df_player[\"G\"] = pd.to_numeric(df_player[\"G\"]) # convert games to integer\n"
          ]
        },
        {
          "output_type": "stream",
          "name": "stdout",
          "text": [
            "pitcher\n",
            "pitcher\n",
            "pitcher\n"
          ]
        },
        {
          "output_type": "stream",
          "name": "stderr",
          "text": [
            "<ipython-input-3-39553ff2ec0b>:9: SettingWithCopyWarning: \n",
            "A value is trying to be set on a copy of a slice from a DataFrame.\n",
            "Try using .loc[row_indexer,col_indexer] = value instead\n",
            "\n",
            "See the caveats in the documentation: https://pandas.pydata.org/pandas-docs/stable/user_guide/indexing.html#returning-a-view-versus-a-copy\n",
            "  df_player[\"G\"] = pd.to_numeric(df_player[\"G\"]) # convert games to integer\n"
          ]
        },
        {
          "output_type": "stream",
          "name": "stdout",
          "text": [
            "pitcher\n"
          ]
        },
        {
          "output_type": "stream",
          "name": "stderr",
          "text": [
            "<ipython-input-3-39553ff2ec0b>:9: SettingWithCopyWarning: \n",
            "A value is trying to be set on a copy of a slice from a DataFrame.\n",
            "Try using .loc[row_indexer,col_indexer] = value instead\n",
            "\n",
            "See the caveats in the documentation: https://pandas.pydata.org/pandas-docs/stable/user_guide/indexing.html#returning-a-view-versus-a-copy\n",
            "  df_player[\"G\"] = pd.to_numeric(df_player[\"G\"]) # convert games to integer\n"
          ]
        },
        {
          "output_type": "stream",
          "name": "stdout",
          "text": [
            "/players/a/almoral01.shtml\n"
          ]
        },
        {
          "output_type": "stream",
          "name": "stderr",
          "text": [
            "<ipython-input-3-39553ff2ec0b>:9: SettingWithCopyWarning: \n",
            "A value is trying to be set on a copy of a slice from a DataFrame.\n",
            "Try using .loc[row_indexer,col_indexer] = value instead\n",
            "\n",
            "See the caveats in the documentation: https://pandas.pydata.org/pandas-docs/stable/user_guide/indexing.html#returning-a-view-versus-a-copy\n",
            "  df_player[\"G\"] = pd.to_numeric(df_player[\"G\"]) # convert games to integer\n"
          ]
        },
        {
          "output_type": "stream",
          "name": "stdout",
          "text": [
            "/players/a/alomaro01.shtml\n"
          ]
        },
        {
          "output_type": "stream",
          "name": "stderr",
          "text": [
            "<ipython-input-3-39553ff2ec0b>:9: SettingWithCopyWarning: \n",
            "A value is trying to be set on a copy of a slice from a DataFrame.\n",
            "Try using .loc[row_indexer,col_indexer] = value instead\n",
            "\n",
            "See the caveats in the documentation: https://pandas.pydata.org/pandas-docs/stable/user_guide/indexing.html#returning-a-view-versus-a-copy\n",
            "  df_player[\"G\"] = pd.to_numeric(df_player[\"G\"]) # convert games to integer\n"
          ]
        },
        {
          "output_type": "stream",
          "name": "stdout",
          "text": [
            "/players/a/alomasa02.shtml\n"
          ]
        },
        {
          "output_type": "stream",
          "name": "stderr",
          "text": [
            "<ipython-input-3-39553ff2ec0b>:9: SettingWithCopyWarning: \n",
            "A value is trying to be set on a copy of a slice from a DataFrame.\n",
            "Try using .loc[row_indexer,col_indexer] = value instead\n",
            "\n",
            "See the caveats in the documentation: https://pandas.pydata.org/pandas-docs/stable/user_guide/indexing.html#returning-a-view-versus-a-copy\n",
            "  df_player[\"G\"] = pd.to_numeric(df_player[\"G\"]) # convert games to integer\n"
          ]
        },
        {
          "output_type": "stream",
          "name": "stdout",
          "text": [
            "/players/a/alonsyo01.shtml\n"
          ]
        },
        {
          "output_type": "stream",
          "name": "stderr",
          "text": [
            "<ipython-input-3-39553ff2ec0b>:9: SettingWithCopyWarning: \n",
            "A value is trying to be set on a copy of a slice from a DataFrame.\n",
            "Try using .loc[row_indexer,col_indexer] = value instead\n",
            "\n",
            "See the caveats in the documentation: https://pandas.pydata.org/pandas-docs/stable/user_guide/indexing.html#returning-a-view-versus-a-copy\n",
            "  df_player[\"G\"] = pd.to_numeric(df_player[\"G\"]) # convert games to integer\n"
          ]
        },
        {
          "output_type": "stream",
          "name": "stdout",
          "text": [
            "/players/a/aloumo01.shtml\n"
          ]
        },
        {
          "output_type": "stream",
          "name": "stderr",
          "text": [
            "<ipython-input-3-39553ff2ec0b>:9: SettingWithCopyWarning: \n",
            "A value is trying to be set on a copy of a slice from a DataFrame.\n",
            "Try using .loc[row_indexer,col_indexer] = value instead\n",
            "\n",
            "See the caveats in the documentation: https://pandas.pydata.org/pandas-docs/stable/user_guide/indexing.html#returning-a-view-versus-a-copy\n",
            "  df_player[\"G\"] = pd.to_numeric(df_player[\"G\"]) # convert games to integer\n"
          ]
        },
        {
          "output_type": "stream",
          "name": "stdout",
          "text": [
            "/players/a/alstode01.shtml\n",
            "pitcher\n",
            "pitcher\n",
            "pitcher\n"
          ]
        },
        {
          "output_type": "stream",
          "name": "stderr",
          "text": [
            "<ipython-input-3-39553ff2ec0b>:9: SettingWithCopyWarning: \n",
            "A value is trying to be set on a copy of a slice from a DataFrame.\n",
            "Try using .loc[row_indexer,col_indexer] = value instead\n",
            "\n",
            "See the caveats in the documentation: https://pandas.pydata.org/pandas-docs/stable/user_guide/indexing.html#returning-a-view-versus-a-copy\n",
            "  df_player[\"G\"] = pd.to_numeric(df_player[\"G\"]) # convert games to integer\n"
          ]
        },
        {
          "output_type": "stream",
          "name": "stdout",
          "text": [
            "/players/a/altheaa01.shtml\n",
            "pitcher\n"
          ]
        },
        {
          "output_type": "stream",
          "name": "stderr",
          "text": [
            "<ipython-input-3-39553ff2ec0b>:9: SettingWithCopyWarning: \n",
            "A value is trying to be set on a copy of a slice from a DataFrame.\n",
            "Try using .loc[row_indexer,col_indexer] = value instead\n",
            "\n",
            "See the caveats in the documentation: https://pandas.pydata.org/pandas-docs/stable/user_guide/indexing.html#returning-a-view-versus-a-copy\n",
            "  df_player[\"G\"] = pd.to_numeric(df_player[\"G\"]) # convert games to integer\n"
          ]
        },
        {
          "output_type": "stream",
          "name": "stdout",
          "text": [
            "pitcher\n"
          ]
        },
        {
          "output_type": "stream",
          "name": "stderr",
          "text": [
            "<ipython-input-3-39553ff2ec0b>:9: SettingWithCopyWarning: \n",
            "A value is trying to be set on a copy of a slice from a DataFrame.\n",
            "Try using .loc[row_indexer,col_indexer] = value instead\n",
            "\n",
            "See the caveats in the documentation: https://pandas.pydata.org/pandas-docs/stable/user_guide/indexing.html#returning-a-view-versus-a-copy\n",
            "  df_player[\"G\"] = pd.to_numeric(df_player[\"G\"]) # convert games to integer\n"
          ]
        },
        {
          "output_type": "stream",
          "name": "stdout",
          "text": [
            "pitcher\n",
            "pitcher\n"
          ]
        },
        {
          "output_type": "stream",
          "name": "stderr",
          "text": [
            "<ipython-input-3-39553ff2ec0b>:9: SettingWithCopyWarning: \n",
            "A value is trying to be set on a copy of a slice from a DataFrame.\n",
            "Try using .loc[row_indexer,col_indexer] = value instead\n",
            "\n",
            "See the caveats in the documentation: https://pandas.pydata.org/pandas-docs/stable/user_guide/indexing.html#returning-a-view-versus-a-copy\n",
            "  df_player[\"G\"] = pd.to_numeric(df_player[\"G\"]) # convert games to integer\n"
          ]
        },
        {
          "output_type": "stream",
          "name": "stdout",
          "text": [
            "pitcher\n"
          ]
        },
        {
          "output_type": "stream",
          "name": "stderr",
          "text": [
            "<ipython-input-3-39553ff2ec0b>:9: SettingWithCopyWarning: \n",
            "A value is trying to be set on a copy of a slice from a DataFrame.\n",
            "Try using .loc[row_indexer,col_indexer] = value instead\n",
            "\n",
            "See the caveats in the documentation: https://pandas.pydata.org/pandas-docs/stable/user_guide/indexing.html#returning-a-view-versus-a-copy\n",
            "  df_player[\"G\"] = pd.to_numeric(df_player[\"G\"]) # convert games to integer\n"
          ]
        },
        {
          "output_type": "stream",
          "name": "stdout",
          "text": [
            "/players/a/alvarga01.shtml\n",
            "pitcher\n",
            "pitcher\n",
            "pitcher\n",
            "pitcher\n"
          ]
        },
        {
          "output_type": "stream",
          "name": "stderr",
          "text": [
            "<ipython-input-3-39553ff2ec0b>:9: SettingWithCopyWarning: \n",
            "A value is trying to be set on a copy of a slice from a DataFrame.\n",
            "Try using .loc[row_indexer,col_indexer] = value instead\n",
            "\n",
            "See the caveats in the documentation: https://pandas.pydata.org/pandas-docs/stable/user_guide/indexing.html#returning-a-view-versus-a-copy\n",
            "  df_player[\"G\"] = pd.to_numeric(df_player[\"G\"]) # convert games to integer\n"
          ]
        },
        {
          "output_type": "stream",
          "name": "stdout",
          "text": [
            "/players/a/alvarpe01.shtml\n",
            "pitcher\n",
            "pitcher\n"
          ]
        },
        {
          "output_type": "stream",
          "name": "stderr",
          "text": [
            "<ipython-input-3-39553ff2ec0b>:9: SettingWithCopyWarning: \n",
            "A value is trying to be set on a copy of a slice from a DataFrame.\n",
            "Try using .loc[row_indexer,col_indexer] = value instead\n",
            "\n",
            "See the caveats in the documentation: https://pandas.pydata.org/pandas-docs/stable/user_guide/indexing.html#returning-a-view-versus-a-copy\n",
            "  df_player[\"G\"] = pd.to_numeric(df_player[\"G\"]) # convert games to integer\n"
          ]
        },
        {
          "output_type": "stream",
          "name": "stdout",
          "text": [
            "pitcher\n",
            "pitcher\n",
            "pitcher\n"
          ]
        },
        {
          "output_type": "stream",
          "name": "stderr",
          "text": [
            "<ipython-input-3-39553ff2ec0b>:9: SettingWithCopyWarning: \n",
            "A value is trying to be set on a copy of a slice from a DataFrame.\n",
            "Try using .loc[row_indexer,col_indexer] = value instead\n",
            "\n",
            "See the caveats in the documentation: https://pandas.pydata.org/pandas-docs/stable/user_guide/indexing.html#returning-a-view-versus-a-copy\n",
            "  df_player[\"G\"] = pd.to_numeric(df_player[\"G\"]) # convert games to integer\n"
          ]
        },
        {
          "output_type": "stream",
          "name": "stdout",
          "text": [
            "/players/a/amarari01.shtml\n"
          ]
        },
        {
          "output_type": "stream",
          "name": "stderr",
          "text": [
            "<ipython-input-3-39553ff2ec0b>:9: SettingWithCopyWarning: \n",
            "A value is trying to be set on a copy of a slice from a DataFrame.\n",
            "Try using .loc[row_indexer,col_indexer] = value instead\n",
            "\n",
            "See the caveats in the documentation: https://pandas.pydata.org/pandas-docs/stable/user_guide/indexing.html#returning-a-view-versus-a-copy\n",
            "  df_player[\"G\"] = pd.to_numeric(df_player[\"G\"]) # convert games to integer\n"
          ]
        },
        {
          "output_type": "stream",
          "name": "stdout",
          "text": [
            "/players/a/amarial01.shtml\n"
          ]
        },
        {
          "output_type": "stream",
          "name": "stderr",
          "text": [
            "<ipython-input-3-39553ff2ec0b>:9: SettingWithCopyWarning: \n",
            "A value is trying to be set on a copy of a slice from a DataFrame.\n",
            "Try using .loc[row_indexer,col_indexer] = value instead\n",
            "\n",
            "See the caveats in the documentation: https://pandas.pydata.org/pandas-docs/stable/user_guide/indexing.html#returning-a-view-versus-a-copy\n",
            "  df_player[\"G\"] = pd.to_numeric(df_player[\"G\"]) # convert games to integer\n"
          ]
        },
        {
          "output_type": "stream",
          "name": "stdout",
          "text": [
            "/players/a/amaroru02.shtml\n"
          ]
        },
        {
          "output_type": "stream",
          "name": "stderr",
          "text": [
            "<ipython-input-3-39553ff2ec0b>:9: SettingWithCopyWarning: \n",
            "A value is trying to be set on a copy of a slice from a DataFrame.\n",
            "Try using .loc[row_indexer,col_indexer] = value instead\n",
            "\n",
            "See the caveats in the documentation: https://pandas.pydata.org/pandas-docs/stable/user_guide/indexing.html#returning-a-view-versus-a-copy\n",
            "  df_player[\"G\"] = pd.to_numeric(df_player[\"G\"]) # convert games to integer\n"
          ]
        },
        {
          "output_type": "stream",
          "name": "stdout",
          "text": [
            "/players/a/ambrech01.shtml\n",
            "pitcher\n"
          ]
        },
        {
          "output_type": "stream",
          "name": "stderr",
          "text": [
            "<ipython-input-3-39553ff2ec0b>:9: SettingWithCopyWarning: \n",
            "A value is trying to be set on a copy of a slice from a DataFrame.\n",
            "Try using .loc[row_indexer,col_indexer] = value instead\n",
            "\n",
            "See the caveats in the documentation: https://pandas.pydata.org/pandas-docs/stable/user_guide/indexing.html#returning-a-view-versus-a-copy\n",
            "  df_player[\"G\"] = pd.to_numeric(df_player[\"G\"]) # convert games to integer\n"
          ]
        },
        {
          "output_type": "stream",
          "name": "stdout",
          "text": [
            "pitcher\n"
          ]
        },
        {
          "output_type": "stream",
          "name": "stderr",
          "text": [
            "<ipython-input-3-39553ff2ec0b>:9: SettingWithCopyWarning: \n",
            "A value is trying to be set on a copy of a slice from a DataFrame.\n",
            "Try using .loc[row_indexer,col_indexer] = value instead\n",
            "\n",
            "See the caveats in the documentation: https://pandas.pydata.org/pandas-docs/stable/user_guide/indexing.html#returning-a-view-versus-a-copy\n",
            "  df_player[\"G\"] = pd.to_numeric(df_player[\"G\"]) # convert games to integer\n"
          ]
        },
        {
          "output_type": "stream",
          "name": "stdout",
          "text": [
            "pitcher\n",
            "pitcher\n"
          ]
        },
        {
          "output_type": "stream",
          "name": "stderr",
          "text": [
            "<ipython-input-3-39553ff2ec0b>:9: SettingWithCopyWarning: \n",
            "A value is trying to be set on a copy of a slice from a DataFrame.\n",
            "Try using .loc[row_indexer,col_indexer] = value instead\n",
            "\n",
            "See the caveats in the documentation: https://pandas.pydata.org/pandas-docs/stable/user_guide/indexing.html#returning-a-view-versus-a-copy\n",
            "  df_player[\"G\"] = pd.to_numeric(df_player[\"G\"]) # convert games to integer\n"
          ]
        },
        {
          "output_type": "stream",
          "name": "stdout",
          "text": [
            "/players/a/amezaal01.shtml\n",
            "pitcher\n",
            "pitcher\n"
          ]
        },
        {
          "output_type": "stream",
          "name": "stderr",
          "text": [
            "<ipython-input-3-39553ff2ec0b>:9: SettingWithCopyWarning: \n",
            "A value is trying to be set on a copy of a slice from a DataFrame.\n",
            "Try using .loc[row_indexer,col_indexer] = value instead\n",
            "\n",
            "See the caveats in the documentation: https://pandas.pydata.org/pandas-docs/stable/user_guide/indexing.html#returning-a-view-versus-a-copy\n",
            "  df_player[\"G\"] = pd.to_numeric(df_player[\"G\"]) # convert games to integer\n"
          ]
        },
        {
          "output_type": "stream",
          "name": "stdout",
          "text": [
            "/players/a/anderbr01.shtml\n",
            "pitcher\n",
            "pitcher\n"
          ]
        },
        {
          "output_type": "stream",
          "name": "stderr",
          "text": [
            "<ipython-input-3-39553ff2ec0b>:9: SettingWithCopyWarning: \n",
            "A value is trying to be set on a copy of a slice from a DataFrame.\n",
            "Try using .loc[row_indexer,col_indexer] = value instead\n",
            "\n",
            "See the caveats in the documentation: https://pandas.pydata.org/pandas-docs/stable/user_guide/indexing.html#returning-a-view-versus-a-copy\n",
            "  df_player[\"G\"] = pd.to_numeric(df_player[\"G\"]) # convert games to integer\n"
          ]
        },
        {
          "output_type": "stream",
          "name": "stdout",
          "text": [
            "/players/a/anderbr03.shtml\n"
          ]
        },
        {
          "output_type": "stream",
          "name": "stderr",
          "text": [
            "<ipython-input-3-39553ff2ec0b>:9: SettingWithCopyWarning: \n",
            "A value is trying to be set on a copy of a slice from a DataFrame.\n",
            "Try using .loc[row_indexer,col_indexer] = value instead\n",
            "\n",
            "See the caveats in the documentation: https://pandas.pydata.org/pandas-docs/stable/user_guide/indexing.html#returning-a-view-versus-a-copy\n",
            "  df_player[\"G\"] = pd.to_numeric(df_player[\"G\"]) # convert games to integer\n"
          ]
        },
        {
          "output_type": "stream",
          "name": "stdout",
          "text": [
            "pitcher\n",
            "pitcher\n",
            "pitcher\n"
          ]
        },
        {
          "output_type": "stream",
          "name": "stderr",
          "text": [
            "<ipython-input-3-39553ff2ec0b>:9: SettingWithCopyWarning: \n",
            "A value is trying to be set on a copy of a slice from a DataFrame.\n",
            "Try using .loc[row_indexer,col_indexer] = value instead\n",
            "\n",
            "See the caveats in the documentation: https://pandas.pydata.org/pandas-docs/stable/user_guide/indexing.html#returning-a-view-versus-a-copy\n",
            "  df_player[\"G\"] = pd.to_numeric(df_player[\"G\"]) # convert games to integer\n"
          ]
        },
        {
          "output_type": "stream",
          "name": "stdout",
          "text": [
            "/players/a/anderda02.shtml\n"
          ]
        },
        {
          "output_type": "stream",
          "name": "stderr",
          "text": [
            "<ipython-input-3-39553ff2ec0b>:9: SettingWithCopyWarning: \n",
            "A value is trying to be set on a copy of a slice from a DataFrame.\n",
            "Try using .loc[row_indexer,col_indexer] = value instead\n",
            "\n",
            "See the caveats in the documentation: https://pandas.pydata.org/pandas-docs/stable/user_guide/indexing.html#returning-a-view-versus-a-copy\n",
            "  df_player[\"G\"] = pd.to_numeric(df_player[\"G\"]) # convert games to integer\n"
          ]
        },
        {
          "output_type": "stream",
          "name": "stdout",
          "text": [
            "pitcher\n",
            "pitcher\n"
          ]
        },
        {
          "output_type": "stream",
          "name": "stderr",
          "text": [
            "<ipython-input-3-39553ff2ec0b>:9: SettingWithCopyWarning: \n",
            "A value is trying to be set on a copy of a slice from a DataFrame.\n",
            "Try using .loc[row_indexer,col_indexer] = value instead\n",
            "\n",
            "See the caveats in the documentation: https://pandas.pydata.org/pandas-docs/stable/user_guide/indexing.html#returning-a-view-versus-a-copy\n",
            "  df_player[\"G\"] = pd.to_numeric(df_player[\"G\"]) # convert games to integer\n"
          ]
        },
        {
          "output_type": "stream",
          "name": "stdout",
          "text": [
            "/players/a/anderga01.shtml\n",
            "pitcher\n",
            "pitcher\n"
          ]
        },
        {
          "output_type": "stream",
          "name": "stderr",
          "text": [
            "<ipython-input-3-39553ff2ec0b>:9: SettingWithCopyWarning: \n",
            "A value is trying to be set on a copy of a slice from a DataFrame.\n",
            "Try using .loc[row_indexer,col_indexer] = value instead\n",
            "\n",
            "See the caveats in the documentation: https://pandas.pydata.org/pandas-docs/stable/user_guide/indexing.html#returning-a-view-versus-a-copy\n",
            "  df_player[\"G\"] = pd.to_numeric(df_player[\"G\"]) # convert games to integer\n"
          ]
        },
        {
          "output_type": "stream",
          "name": "stdout",
          "text": [
            "/players/a/anderji01.shtml\n",
            "pitcher\n"
          ]
        },
        {
          "output_type": "stream",
          "name": "stderr",
          "text": [
            "<ipython-input-3-39553ff2ec0b>:9: SettingWithCopyWarning: \n",
            "A value is trying to be set on a copy of a slice from a DataFrame.\n",
            "Try using .loc[row_indexer,col_indexer] = value instead\n",
            "\n",
            "See the caveats in the documentation: https://pandas.pydata.org/pandas-docs/stable/user_guide/indexing.html#returning-a-view-versus-a-copy\n",
            "  df_player[\"G\"] = pd.to_numeric(df_player[\"G\"]) # convert games to integer\n"
          ]
        },
        {
          "output_type": "stream",
          "name": "stdout",
          "text": [
            "/players/a/anderjo03.shtml\n",
            "pitcher\n"
          ]
        },
        {
          "output_type": "stream",
          "name": "stderr",
          "text": [
            "<ipython-input-3-39553ff2ec0b>:9: SettingWithCopyWarning: \n",
            "A value is trying to be set on a copy of a slice from a DataFrame.\n",
            "Try using .loc[row_indexer,col_indexer] = value instead\n",
            "\n",
            "See the caveats in the documentation: https://pandas.pydata.org/pandas-docs/stable/user_guide/indexing.html#returning-a-view-versus-a-copy\n",
            "  df_player[\"G\"] = pd.to_numeric(df_player[\"G\"]) # convert games to integer\n"
          ]
        },
        {
          "output_type": "stream",
          "name": "stdout",
          "text": [
            "/players/a/anderke01.shtml\n"
          ]
        },
        {
          "output_type": "stream",
          "name": "stderr",
          "text": [
            "<ipython-input-3-39553ff2ec0b>:9: SettingWithCopyWarning: \n",
            "A value is trying to be set on a copy of a slice from a DataFrame.\n",
            "Try using .loc[row_indexer,col_indexer] = value instead\n",
            "\n",
            "See the caveats in the documentation: https://pandas.pydata.org/pandas-docs/stable/user_guide/indexing.html#returning-a-view-versus-a-copy\n",
            "  df_player[\"G\"] = pd.to_numeric(df_player[\"G\"]) # convert games to integer\n"
          ]
        },
        {
          "output_type": "stream",
          "name": "stdout",
          "text": [
            "pitcher\n"
          ]
        },
        {
          "output_type": "stream",
          "name": "stderr",
          "text": [
            "<ipython-input-3-39553ff2ec0b>:9: SettingWithCopyWarning: \n",
            "A value is trying to be set on a copy of a slice from a DataFrame.\n",
            "Try using .loc[row_indexer,col_indexer] = value instead\n",
            "\n",
            "See the caveats in the documentation: https://pandas.pydata.org/pandas-docs/stable/user_guide/indexing.html#returning-a-view-versus-a-copy\n",
            "  df_player[\"G\"] = pd.to_numeric(df_player[\"G\"]) # convert games to integer\n"
          ]
        },
        {
          "output_type": "stream",
          "name": "stdout",
          "text": [
            "/players/a/anderma02.shtml\n",
            "pitcher\n",
            "pitcher\n",
            "pitcher\n",
            "pitcher\n",
            "pitcher\n",
            "pitcher\n",
            "pitcher\n"
          ]
        },
        {
          "output_type": "stream",
          "name": "stderr",
          "text": [
            "<ipython-input-3-39553ff2ec0b>:9: SettingWithCopyWarning: \n",
            "A value is trying to be set on a copy of a slice from a DataFrame.\n",
            "Try using .loc[row_indexer,col_indexer] = value instead\n",
            "\n",
            "See the caveats in the documentation: https://pandas.pydata.org/pandas-docs/stable/user_guide/indexing.html#returning-a-view-versus-a-copy\n",
            "  df_player[\"G\"] = pd.to_numeric(df_player[\"G\"]) # convert games to integer\n"
          ]
        },
        {
          "output_type": "stream",
          "name": "stdout",
          "text": [
            "/players/a/andinro01.shtml\n",
            "pitcher\n"
          ]
        },
        {
          "output_type": "stream",
          "name": "stderr",
          "text": [
            "<ipython-input-3-39553ff2ec0b>:9: SettingWithCopyWarning: \n",
            "A value is trying to be set on a copy of a slice from a DataFrame.\n",
            "Try using .loc[row_indexer,col_indexer] = value instead\n",
            "\n",
            "See the caveats in the documentation: https://pandas.pydata.org/pandas-docs/stable/user_guide/indexing.html#returning-a-view-versus-a-copy\n",
            "  df_player[\"G\"] = pd.to_numeric(df_player[\"G\"]) # convert games to integer\n"
          ]
        },
        {
          "output_type": "stream",
          "name": "stdout",
          "text": [
            "pitcher\n",
            "pitcher\n"
          ]
        },
        {
          "output_type": "stream",
          "name": "stderr",
          "text": [
            "<ipython-input-3-39553ff2ec0b>:9: SettingWithCopyWarning: \n",
            "A value is trying to be set on a copy of a slice from a DataFrame.\n",
            "Try using .loc[row_indexer,col_indexer] = value instead\n",
            "\n",
            "See the caveats in the documentation: https://pandas.pydata.org/pandas-docs/stable/user_guide/indexing.html#returning-a-view-versus-a-copy\n",
            "  df_player[\"G\"] = pd.to_numeric(df_player[\"G\"]) # convert games to integer\n"
          ]
        },
        {
          "output_type": "stream",
          "name": "stdout",
          "text": [
            "/players/a/andresh01.shtml\n",
            "pitcher\n",
            "pitcher\n",
            "pitcher\n"
          ]
        },
        {
          "output_type": "stream",
          "name": "stderr",
          "text": [
            "<ipython-input-3-39553ff2ec0b>:9: SettingWithCopyWarning: \n",
            "A value is trying to be set on a copy of a slice from a DataFrame.\n",
            "Try using .loc[row_indexer,col_indexer] = value instead\n",
            "\n",
            "See the caveats in the documentation: https://pandas.pydata.org/pandas-docs/stable/user_guide/indexing.html#returning-a-view-versus-a-copy\n",
            "  df_player[\"G\"] = pd.to_numeric(df_player[\"G\"]) # convert games to integer\n"
          ]
        },
        {
          "output_type": "stream",
          "name": "stdout",
          "text": [
            "pitcher\n"
          ]
        },
        {
          "output_type": "stream",
          "name": "stderr",
          "text": [
            "<ipython-input-3-39553ff2ec0b>:9: SettingWithCopyWarning: \n",
            "A value is trying to be set on a copy of a slice from a DataFrame.\n",
            "Try using .loc[row_indexer,col_indexer] = value instead\n",
            "\n",
            "See the caveats in the documentation: https://pandas.pydata.org/pandas-docs/stable/user_guide/indexing.html#returning-a-view-versus-a-copy\n",
            "  df_player[\"G\"] = pd.to_numeric(df_player[\"G\"]) # convert games to integer\n"
          ]
        },
        {
          "output_type": "stream",
          "name": "stdout",
          "text": [
            "/players/a/ankieri01.shtml\n"
          ]
        },
        {
          "output_type": "stream",
          "name": "stderr",
          "text": [
            "<ipython-input-3-39553ff2ec0b>:9: SettingWithCopyWarning: \n",
            "A value is trying to be set on a copy of a slice from a DataFrame.\n",
            "Try using .loc[row_indexer,col_indexer] = value instead\n",
            "\n",
            "See the caveats in the documentation: https://pandas.pydata.org/pandas-docs/stable/user_guide/indexing.html#returning-a-view-versus-a-copy\n",
            "  df_player[\"G\"] = pd.to_numeric(df_player[\"G\"]) # convert games to integer\n"
          ]
        },
        {
          "output_type": "stream",
          "name": "stdout",
          "text": [
            "pitcher\n"
          ]
        },
        {
          "output_type": "stream",
          "name": "stderr",
          "text": [
            "<ipython-input-3-39553ff2ec0b>:9: SettingWithCopyWarning: \n",
            "A value is trying to be set on a copy of a slice from a DataFrame.\n",
            "Try using .loc[row_indexer,col_indexer] = value instead\n",
            "\n",
            "See the caveats in the documentation: https://pandas.pydata.org/pandas-docs/stable/user_guide/indexing.html#returning-a-view-versus-a-copy\n",
            "  df_player[\"G\"] = pd.to_numeric(df_player[\"G\"]) # convert games to integer\n"
          ]
        },
        {
          "output_type": "stream",
          "name": "stdout",
          "text": [
            "/players/a/anthoer01.shtml\n",
            "pitcher\n"
          ]
        },
        {
          "output_type": "stream",
          "name": "stderr",
          "text": [
            "<ipython-input-3-39553ff2ec0b>:9: SettingWithCopyWarning: \n",
            "A value is trying to be set on a copy of a slice from a DataFrame.\n",
            "Try using .loc[row_indexer,col_indexer] = value instead\n",
            "\n",
            "See the caveats in the documentation: https://pandas.pydata.org/pandas-docs/stable/user_guide/indexing.html#returning-a-view-versus-a-copy\n",
            "  df_player[\"G\"] = pd.to_numeric(df_player[\"G\"]) # convert games to integer\n"
          ]
        },
        {
          "output_type": "stream",
          "name": "stdout",
          "text": [
            "pitcher\n"
          ]
        },
        {
          "output_type": "stream",
          "name": "stderr",
          "text": [
            "<ipython-input-3-39553ff2ec0b>:9: SettingWithCopyWarning: \n",
            "A value is trying to be set on a copy of a slice from a DataFrame.\n",
            "Try using .loc[row_indexer,col_indexer] = value instead\n",
            "\n",
            "See the caveats in the documentation: https://pandas.pydata.org/pandas-docs/stable/user_guide/indexing.html#returning-a-view-versus-a-copy\n",
            "  df_player[\"G\"] = pd.to_numeric(df_player[\"G\"]) # convert games to integer\n"
          ]
        },
        {
          "output_type": "stream",
          "name": "stdout",
          "text": [
            "/players/a/aokino01.shtml\n",
            "pitcher\n"
          ]
        },
        {
          "output_type": "stream",
          "name": "stderr",
          "text": [
            "<ipython-input-3-39553ff2ec0b>:9: SettingWithCopyWarning: \n",
            "A value is trying to be set on a copy of a slice from a DataFrame.\n",
            "Try using .loc[row_indexer,col_indexer] = value instead\n",
            "\n",
            "See the caveats in the documentation: https://pandas.pydata.org/pandas-docs/stable/user_guide/indexing.html#returning-a-view-versus-a-copy\n",
            "  df_player[\"G\"] = pd.to_numeric(df_player[\"G\"]) # convert games to integer\n"
          ]
        },
        {
          "output_type": "stream",
          "name": "stdout",
          "text": [
            "pitcher\n",
            "pitcher\n",
            "pitcher\n"
          ]
        },
        {
          "output_type": "stream",
          "name": "stderr",
          "text": [
            "<ipython-input-3-39553ff2ec0b>:9: SettingWithCopyWarning: \n",
            "A value is trying to be set on a copy of a slice from a DataFrame.\n",
            "Try using .loc[row_indexer,col_indexer] = value instead\n",
            "\n",
            "See the caveats in the documentation: https://pandas.pydata.org/pandas-docs/stable/user_guide/indexing.html#returning-a-view-versus-a-copy\n",
            "  df_player[\"G\"] = pd.to_numeric(df_player[\"G\"]) # convert games to integer\n"
          ]
        },
        {
          "output_type": "stream",
          "name": "stdout",
          "text": [
            "/players/a/aquinar01.shtml\n",
            "pitcher\n",
            "pitcher\n",
            "pitcher\n",
            "pitcher\n",
            "pitcher\n",
            "pitcher\n",
            "pitcher\n"
          ]
        },
        {
          "output_type": "stream",
          "name": "stderr",
          "text": [
            "<ipython-input-3-39553ff2ec0b>:9: SettingWithCopyWarning: \n",
            "A value is trying to be set on a copy of a slice from a DataFrame.\n",
            "Try using .loc[row_indexer,col_indexer] = value instead\n",
            "\n",
            "See the caveats in the documentation: https://pandas.pydata.org/pandas-docs/stable/user_guide/indexing.html#returning-a-view-versus-a-copy\n",
            "  df_player[\"G\"] = pd.to_numeric(df_player[\"G\"]) # convert games to integer\n"
          ]
        },
        {
          "output_type": "stream",
          "name": "stdout",
          "text": [
            "/players/a/arciafr01.shtml\n"
          ]
        },
        {
          "output_type": "stream",
          "name": "stderr",
          "text": [
            "<ipython-input-3-39553ff2ec0b>:9: SettingWithCopyWarning: \n",
            "A value is trying to be set on a copy of a slice from a DataFrame.\n",
            "Try using .loc[row_indexer,col_indexer] = value instead\n",
            "\n",
            "See the caveats in the documentation: https://pandas.pydata.org/pandas-docs/stable/user_guide/indexing.html#returning-a-view-versus-a-copy\n",
            "  df_player[\"G\"] = pd.to_numeric(df_player[\"G\"]) # convert games to integer\n"
          ]
        },
        {
          "output_type": "stream",
          "name": "stdout",
          "text": [
            "/players/a/arciaos01.shtml\n"
          ]
        },
        {
          "output_type": "stream",
          "name": "stderr",
          "text": [
            "<ipython-input-3-39553ff2ec0b>:9: SettingWithCopyWarning: \n",
            "A value is trying to be set on a copy of a slice from a DataFrame.\n",
            "Try using .loc[row_indexer,col_indexer] = value instead\n",
            "\n",
            "See the caveats in the documentation: https://pandas.pydata.org/pandas-docs/stable/user_guide/indexing.html#returning-a-view-versus-a-copy\n",
            "  df_player[\"G\"] = pd.to_numeric(df_player[\"G\"]) # convert games to integer\n"
          ]
        },
        {
          "output_type": "stream",
          "name": "stdout",
          "text": [
            "/players/a/ardoida01.shtml\n"
          ]
        },
        {
          "output_type": "stream",
          "name": "stderr",
          "text": [
            "<ipython-input-3-39553ff2ec0b>:9: SettingWithCopyWarning: \n",
            "A value is trying to be set on a copy of a slice from a DataFrame.\n",
            "Try using .loc[row_indexer,col_indexer] = value instead\n",
            "\n",
            "See the caveats in the documentation: https://pandas.pydata.org/pandas-docs/stable/user_guide/indexing.html#returning-a-view-versus-a-copy\n",
            "  df_player[\"G\"] = pd.to_numeric(df_player[\"G\"]) # convert games to integer\n"
          ]
        },
        {
          "output_type": "stream",
          "name": "stdout",
          "text": [
            "/players/a/arencjp01.shtml\n",
            "pitcher\n"
          ]
        },
        {
          "output_type": "stream",
          "name": "stderr",
          "text": [
            "<ipython-input-3-39553ff2ec0b>:9: SettingWithCopyWarning: \n",
            "A value is trying to be set on a copy of a slice from a DataFrame.\n",
            "Try using .loc[row_indexer,col_indexer] = value instead\n",
            "\n",
            "See the caveats in the documentation: https://pandas.pydata.org/pandas-docs/stable/user_guide/indexing.html#returning-a-view-versus-a-copy\n",
            "  df_player[\"G\"] = pd.to_numeric(df_player[\"G\"]) # convert games to integer\n"
          ]
        },
        {
          "output_type": "stream",
          "name": "stdout",
          "text": [
            "/players/a/ariasal01.shtml\n"
          ]
        },
        {
          "output_type": "stream",
          "name": "stderr",
          "text": [
            "<ipython-input-3-39553ff2ec0b>:9: SettingWithCopyWarning: \n",
            "A value is trying to be set on a copy of a slice from a DataFrame.\n",
            "Try using .loc[row_indexer,col_indexer] = value instead\n",
            "\n",
            "See the caveats in the documentation: https://pandas.pydata.org/pandas-docs/stable/user_guide/indexing.html#returning-a-view-versus-a-copy\n",
            "  df_player[\"G\"] = pd.to_numeric(df_player[\"G\"]) # convert games to integer\n"
          ]
        },
        {
          "output_type": "stream",
          "name": "stdout",
          "text": [
            "/players/a/ariasge01.shtml\n"
          ]
        },
        {
          "output_type": "stream",
          "name": "stderr",
          "text": [
            "<ipython-input-3-39553ff2ec0b>:9: SettingWithCopyWarning: \n",
            "A value is trying to be set on a copy of a slice from a DataFrame.\n",
            "Try using .loc[row_indexer,col_indexer] = value instead\n",
            "\n",
            "See the caveats in the documentation: https://pandas.pydata.org/pandas-docs/stable/user_guide/indexing.html#returning-a-view-versus-a-copy\n",
            "  df_player[\"G\"] = pd.to_numeric(df_player[\"G\"]) # convert games to integer\n"
          ]
        },
        {
          "output_type": "stream",
          "name": "stdout",
          "text": [
            "/players/a/ariasjo01.shtml\n",
            "pitcher\n"
          ]
        },
        {
          "output_type": "stream",
          "name": "stderr",
          "text": [
            "<ipython-input-3-39553ff2ec0b>:9: SettingWithCopyWarning: \n",
            "A value is trying to be set on a copy of a slice from a DataFrame.\n",
            "Try using .loc[row_indexer,col_indexer] = value instead\n",
            "\n",
            "See the caveats in the documentation: https://pandas.pydata.org/pandas-docs/stable/user_guide/indexing.html#returning-a-view-versus-a-copy\n",
            "  df_player[\"G\"] = pd.to_numeric(df_player[\"G\"]) # convert games to integer\n"
          ]
        },
        {
          "output_type": "stream",
          "name": "stdout",
          "text": [
            "pitcher\n"
          ]
        },
        {
          "output_type": "stream",
          "name": "stderr",
          "text": [
            "<ipython-input-3-39553ff2ec0b>:9: SettingWithCopyWarning: \n",
            "A value is trying to be set on a copy of a slice from a DataFrame.\n",
            "Try using .loc[row_indexer,col_indexer] = value instead\n",
            "\n",
            "See the caveats in the documentation: https://pandas.pydata.org/pandas-docs/stable/user_guide/indexing.html#returning-a-view-versus-a-copy\n",
            "  df_player[\"G\"] = pd.to_numeric(df_player[\"G\"]) # convert games to integer\n"
          ]
        },
        {
          "output_type": "stream",
          "name": "stdout",
          "text": [
            "/players/a/armasto01.shtml\n",
            "pitcher\n",
            "pitcher\n",
            "pitcher\n",
            "pitcher\n"
          ]
        },
        {
          "output_type": "stream",
          "name": "stderr",
          "text": [
            "<ipython-input-3-39553ff2ec0b>:9: SettingWithCopyWarning: \n",
            "A value is trying to be set on a copy of a slice from a DataFrame.\n",
            "Try using .loc[row_indexer,col_indexer] = value instead\n",
            "\n",
            "See the caveats in the documentation: https://pandas.pydata.org/pandas-docs/stable/user_guide/indexing.html#returning-a-view-versus-a-copy\n",
            "  df_player[\"G\"] = pd.to_numeric(df_player[\"G\"]) # convert games to integer\n"
          ]
        },
        {
          "output_type": "stream",
          "name": "stdout",
          "text": [
            "pitcher\n",
            "pitcher\n",
            "pitcher\n",
            "pitcher\n",
            "pitcher\n",
            "pitcher\n",
            "pitcher\n",
            "pitcher\n",
            "pitcher\n",
            "pitcher\n",
            "pitcher\n",
            "pitcher\n"
          ]
        },
        {
          "output_type": "stream",
          "name": "stderr",
          "text": [
            "<ipython-input-3-39553ff2ec0b>:9: SettingWithCopyWarning: \n",
            "A value is trying to be set on a copy of a slice from a DataFrame.\n",
            "Try using .loc[row_indexer,col_indexer] = value instead\n",
            "\n",
            "See the caveats in the documentation: https://pandas.pydata.org/pandas-docs/stable/user_guide/indexing.html#returning-a-view-versus-a-copy\n",
            "  df_player[\"G\"] = pd.to_numeric(df_player[\"G\"]) # convert games to integer\n"
          ]
        },
        {
          "output_type": "stream",
          "name": "stdout",
          "text": [
            "pitcher\n"
          ]
        },
        {
          "output_type": "stream",
          "name": "stderr",
          "text": [
            "<ipython-input-3-39553ff2ec0b>:9: SettingWithCopyWarning: \n",
            "A value is trying to be set on a copy of a slice from a DataFrame.\n",
            "Try using .loc[row_indexer,col_indexer] = value instead\n",
            "\n",
            "See the caveats in the documentation: https://pandas.pydata.org/pandas-docs/stable/user_guide/indexing.html#returning-a-view-versus-a-copy\n",
            "  df_player[\"G\"] = pd.to_numeric(df_player[\"G\"]) # convert games to integer\n"
          ]
        },
        {
          "output_type": "stream",
          "name": "stdout",
          "text": [
            "/players/a/arteahu01.shtml\n"
          ]
        },
        {
          "output_type": "stream",
          "name": "stderr",
          "text": [
            "<ipython-input-3-39553ff2ec0b>:9: SettingWithCopyWarning: \n",
            "A value is trying to be set on a copy of a slice from a DataFrame.\n",
            "Try using .loc[row_indexer,col_indexer] = value instead\n",
            "\n",
            "See the caveats in the documentation: https://pandas.pydata.org/pandas-docs/stable/user_guide/indexing.html#returning-a-view-versus-a-copy\n",
            "  df_player[\"G\"] = pd.to_numeric(df_player[\"G\"]) # convert games to integer\n"
          ]
        },
        {
          "output_type": "stream",
          "name": "stdout",
          "text": [
            "pitcher\n",
            "pitcher\n"
          ]
        },
        {
          "output_type": "stream",
          "name": "stderr",
          "text": [
            "<ipython-input-3-39553ff2ec0b>:9: SettingWithCopyWarning: \n",
            "A value is trying to be set on a copy of a slice from a DataFrame.\n",
            "Try using .loc[row_indexer,col_indexer] = value instead\n",
            "\n",
            "See the caveats in the documentation: https://pandas.pydata.org/pandas-docs/stable/user_guide/indexing.html#returning-a-view-versus-a-copy\n",
            "  df_player[\"G\"] = pd.to_numeric(df_player[\"G\"]) # convert games to integer\n"
          ]
        },
        {
          "output_type": "stream",
          "name": "stdout",
          "text": [
            "/players/a/ascheco01.shtml\n",
            "pitcher\n",
            "pitcher\n",
            "pitcher\n"
          ]
        },
        {
          "output_type": "stream",
          "name": "stderr",
          "text": [
            "<ipython-input-3-39553ff2ec0b>:9: SettingWithCopyWarning: \n",
            "A value is trying to be set on a copy of a slice from a DataFrame.\n",
            "Try using .loc[row_indexer,col_indexer] = value instead\n",
            "\n",
            "See the caveats in the documentation: https://pandas.pydata.org/pandas-docs/stable/user_guide/indexing.html#returning-a-view-versus-a-copy\n",
            "  df_player[\"G\"] = pd.to_numeric(df_player[\"G\"]) # convert games to integer\n"
          ]
        },
        {
          "output_type": "stream",
          "name": "stdout",
          "text": [
            "/players/a/ashbyal01.shtml\n",
            "pitcher\n",
            "pitcher\n"
          ]
        },
        {
          "output_type": "stream",
          "name": "stderr",
          "text": [
            "<ipython-input-3-39553ff2ec0b>:9: SettingWithCopyWarning: \n",
            "A value is trying to be set on a copy of a slice from a DataFrame.\n",
            "Try using .loc[row_indexer,col_indexer] = value instead\n",
            "\n",
            "See the caveats in the documentation: https://pandas.pydata.org/pandas-docs/stable/user_guide/indexing.html#returning-a-view-versus-a-copy\n",
            "  df_player[\"G\"] = pd.to_numeric(df_player[\"G\"]) # convert games to integer\n"
          ]
        },
        {
          "output_type": "stream",
          "name": "stdout",
          "text": [
            "/players/a/ashfotu01.shtml\n"
          ]
        },
        {
          "output_type": "stream",
          "name": "stderr",
          "text": [
            "<ipython-input-3-39553ff2ec0b>:9: SettingWithCopyWarning: \n",
            "A value is trying to be set on a copy of a slice from a DataFrame.\n",
            "Try using .loc[row_indexer,col_indexer] = value instead\n",
            "\n",
            "See the caveats in the documentation: https://pandas.pydata.org/pandas-docs/stable/user_guide/indexing.html#returning-a-view-versus-a-copy\n",
            "  df_player[\"G\"] = pd.to_numeric(df_player[\"G\"]) # convert games to integer\n"
          ]
        },
        {
          "output_type": "stream",
          "name": "stdout",
          "text": [
            "/players/a/ashlebi01.shtml\n"
          ]
        },
        {
          "output_type": "stream",
          "name": "stderr",
          "text": [
            "<ipython-input-3-39553ff2ec0b>:9: SettingWithCopyWarning: \n",
            "A value is trying to be set on a copy of a slice from a DataFrame.\n",
            "Try using .loc[row_indexer,col_indexer] = value instead\n",
            "\n",
            "See the caveats in the documentation: https://pandas.pydata.org/pandas-docs/stable/user_guide/indexing.html#returning-a-view-versus-a-copy\n",
            "  df_player[\"G\"] = pd.to_numeric(df_player[\"G\"]) # convert games to integer\n"
          ]
        },
        {
          "output_type": "stream",
          "name": "stdout",
          "text": [
            "pitcher\n"
          ]
        },
        {
          "output_type": "stream",
          "name": "stderr",
          "text": [
            "<ipython-input-3-39553ff2ec0b>:9: SettingWithCopyWarning: \n",
            "A value is trying to be set on a copy of a slice from a DataFrame.\n",
            "Try using .loc[row_indexer,col_indexer] = value instead\n",
            "\n",
            "See the caveats in the documentation: https://pandas.pydata.org/pandas-docs/stable/user_guide/indexing.html#returning-a-view-versus-a-copy\n",
            "  df_player[\"G\"] = pd.to_numeric(df_player[\"G\"]) # convert games to integer\n"
          ]
        },
        {
          "output_type": "stream",
          "name": "stdout",
          "text": [
            "/players/a/asselbr01.shtml\n",
            "pitcher\n",
            "pitcher\n",
            "pitcher\n",
            "pitcher\n"
          ]
        },
        {
          "output_type": "stream",
          "name": "stderr",
          "text": [
            "<ipython-input-3-39553ff2ec0b>:9: SettingWithCopyWarning: \n",
            "A value is trying to be set on a copy of a slice from a DataFrame.\n",
            "Try using .loc[row_indexer,col_indexer] = value instead\n",
            "\n",
            "See the caveats in the documentation: https://pandas.pydata.org/pandas-docs/stable/user_guide/indexing.html#returning-a-view-versus-a-copy\n",
            "  df_player[\"G\"] = pd.to_numeric(df_player[\"G\"]) # convert games to integer\n"
          ]
        },
        {
          "output_type": "stream",
          "name": "stdout",
          "text": [
            "/players/a/astudwi01.shtml\n"
          ]
        },
        {
          "output_type": "stream",
          "name": "stderr",
          "text": [
            "<ipython-input-3-39553ff2ec0b>:9: SettingWithCopyWarning: \n",
            "A value is trying to be set on a copy of a slice from a DataFrame.\n",
            "Try using .loc[row_indexer,col_indexer] = value instead\n",
            "\n",
            "See the caveats in the documentation: https://pandas.pydata.org/pandas-docs/stable/user_guide/indexing.html#returning-a-view-versus-a-copy\n",
            "  df_player[\"G\"] = pd.to_numeric(df_player[\"G\"]) # convert games to integer\n"
          ]
        },
        {
          "output_type": "stream",
          "name": "stdout",
          "text": [
            "/players/a/asuajca01.shtml\n",
            "pitcher\n",
            "pitcher\n",
            "pitcher\n",
            "pitcher\n"
          ]
        },
        {
          "output_type": "stream",
          "name": "stderr",
          "text": [
            "<ipython-input-3-39553ff2ec0b>:9: SettingWithCopyWarning: \n",
            "A value is trying to be set on a copy of a slice from a DataFrame.\n",
            "Try using .loc[row_indexer,col_indexer] = value instead\n",
            "\n",
            "See the caveats in the documentation: https://pandas.pydata.org/pandas-docs/stable/user_guide/indexing.html#returning-a-view-versus-a-copy\n",
            "  df_player[\"G\"] = pd.to_numeric(df_player[\"G\"]) # convert games to integer\n"
          ]
        },
        {
          "output_type": "stream",
          "name": "stdout",
          "text": [
            "/players/a/atkinga01.shtml\n",
            "pitcher\n"
          ]
        },
        {
          "output_type": "stream",
          "name": "stderr",
          "text": [
            "<ipython-input-3-39553ff2ec0b>:9: SettingWithCopyWarning: \n",
            "A value is trying to be set on a copy of a slice from a DataFrame.\n",
            "Try using .loc[row_indexer,col_indexer] = value instead\n",
            "\n",
            "See the caveats in the documentation: https://pandas.pydata.org/pandas-docs/stable/user_guide/indexing.html#returning-a-view-versus-a-copy\n",
            "  df_player[\"G\"] = pd.to_numeric(df_player[\"G\"]) # convert games to integer\n"
          ]
        },
        {
          "output_type": "stream",
          "name": "stdout",
          "text": [
            "pitcher\n",
            "pitcher\n"
          ]
        },
        {
          "output_type": "stream",
          "name": "stderr",
          "text": [
            "<ipython-input-3-39553ff2ec0b>:9: SettingWithCopyWarning: \n",
            "A value is trying to be set on a copy of a slice from a DataFrame.\n",
            "Try using .loc[row_indexer,col_indexer] = value instead\n",
            "\n",
            "See the caveats in the documentation: https://pandas.pydata.org/pandas-docs/stable/user_guide/indexing.html#returning-a-view-versus-a-copy\n",
            "  df_player[\"G\"] = pd.to_numeric(df_player[\"G\"]) # convert games to integer\n"
          ]
        },
        {
          "output_type": "stream",
          "name": "stdout",
          "text": [
            "/players/a/auderi01.shtml\n"
          ]
        },
        {
          "output_type": "stream",
          "name": "stderr",
          "text": [
            "<ipython-input-3-39553ff2ec0b>:9: SettingWithCopyWarning: \n",
            "A value is trying to be set on a copy of a slice from a DataFrame.\n",
            "Try using .loc[row_indexer,col_indexer] = value instead\n",
            "\n",
            "See the caveats in the documentation: https://pandas.pydata.org/pandas-docs/stable/user_guide/indexing.html#returning-a-view-versus-a-copy\n",
            "  df_player[\"G\"] = pd.to_numeric(df_player[\"G\"]) # convert games to integer\n"
          ]
        },
        {
          "output_type": "stream",
          "name": "stdout",
          "text": [
            "/players/a/auerbri01.shtml\n",
            "pitcher\n",
            "pitcher\n",
            "pitcher\n"
          ]
        },
        {
          "output_type": "stream",
          "name": "stderr",
          "text": [
            "<ipython-input-3-39553ff2ec0b>:9: SettingWithCopyWarning: \n",
            "A value is trying to be set on a copy of a slice from a DataFrame.\n",
            "Try using .loc[row_indexer,col_indexer] = value instead\n",
            "\n",
            "See the caveats in the documentation: https://pandas.pydata.org/pandas-docs/stable/user_guide/indexing.html#returning-a-view-versus-a-copy\n",
            "  df_player[\"G\"] = pd.to_numeric(df_player[\"G\"]) # convert games to integer\n"
          ]
        },
        {
          "output_type": "stream",
          "name": "stdout",
          "text": [
            "/players/a/aultdo01.shtml\n",
            "pitcher\n"
          ]
        },
        {
          "output_type": "stream",
          "name": "stderr",
          "text": [
            "<ipython-input-3-39553ff2ec0b>:9: SettingWithCopyWarning: \n",
            "A value is trying to be set on a copy of a slice from a DataFrame.\n",
            "Try using .loc[row_indexer,col_indexer] = value instead\n",
            "\n",
            "See the caveats in the documentation: https://pandas.pydata.org/pandas-docs/stable/user_guide/indexing.html#returning-a-view-versus-a-copy\n",
            "  df_player[\"G\"] = pd.to_numeric(df_player[\"G\"]) # convert games to integer\n"
          ]
        },
        {
          "output_type": "stream",
          "name": "stdout",
          "text": [
            "/players/a/aurilri01.shtml\n",
            "pitcher\n"
          ]
        },
        {
          "output_type": "stream",
          "name": "stderr",
          "text": [
            "<ipython-input-3-39553ff2ec0b>:9: SettingWithCopyWarning: \n",
            "A value is trying to be set on a copy of a slice from a DataFrame.\n",
            "Try using .loc[row_indexer,col_indexer] = value instead\n",
            "\n",
            "See the caveats in the documentation: https://pandas.pydata.org/pandas-docs/stable/user_guide/indexing.html#returning-a-view-versus-a-copy\n",
            "  df_player[\"G\"] = pd.to_numeric(df_player[\"G\"]) # convert games to integer\n"
          ]
        },
        {
          "output_type": "stream",
          "name": "stdout",
          "text": [
            "/players/a/ausmubr01.shtml\n",
            "pitcher\n",
            "pitcher\n"
          ]
        },
        {
          "output_type": "stream",
          "name": "stderr",
          "text": [
            "<ipython-input-3-39553ff2ec0b>:9: SettingWithCopyWarning: \n",
            "A value is trying to be set on a copy of a slice from a DataFrame.\n",
            "Try using .loc[row_indexer,col_indexer] = value instead\n",
            "\n",
            "See the caveats in the documentation: https://pandas.pydata.org/pandas-docs/stable/user_guide/indexing.html#returning-a-view-versus-a-copy\n",
            "  df_player[\"G\"] = pd.to_numeric(df_player[\"G\"]) # convert games to integer\n"
          ]
        },
        {
          "output_type": "stream",
          "name": "stdout",
          "text": [
            "/players/a/austity01.shtml\n"
          ]
        },
        {
          "output_type": "stream",
          "name": "stderr",
          "text": [
            "<ipython-input-3-39553ff2ec0b>:9: SettingWithCopyWarning: \n",
            "A value is trying to be set on a copy of a slice from a DataFrame.\n",
            "Try using .loc[row_indexer,col_indexer] = value instead\n",
            "\n",
            "See the caveats in the documentation: https://pandas.pydata.org/pandas-docs/stable/user_guide/indexing.html#returning-a-view-versus-a-copy\n",
            "  df_player[\"G\"] = pd.to_numeric(df_player[\"G\"]) # convert games to integer\n"
          ]
        },
        {
          "output_type": "stream",
          "name": "stdout",
          "text": [
            "pitcher\n"
          ]
        },
        {
          "output_type": "stream",
          "name": "stderr",
          "text": [
            "<ipython-input-3-39553ff2ec0b>:9: SettingWithCopyWarning: \n",
            "A value is trying to be set on a copy of a slice from a DataFrame.\n",
            "Try using .loc[row_indexer,col_indexer] = value instead\n",
            "\n",
            "See the caveats in the documentation: https://pandas.pydata.org/pandas-docs/stable/user_guide/indexing.html#returning-a-view-versus-a-copy\n",
            "  df_player[\"G\"] = pd.to_numeric(df_player[\"G\"]) # convert games to integer\n"
          ]
        },
        {
          "output_type": "stream",
          "name": "stdout",
          "text": [
            "/players/a/avenbr01.shtml\n",
            "pitcher\n"
          ]
        },
        {
          "output_type": "stream",
          "name": "stderr",
          "text": [
            "<ipython-input-3-39553ff2ec0b>:9: SettingWithCopyWarning: \n",
            "A value is trying to be set on a copy of a slice from a DataFrame.\n",
            "Try using .loc[row_indexer,col_indexer] = value instead\n",
            "\n",
            "See the caveats in the documentation: https://pandas.pydata.org/pandas-docs/stable/user_guide/indexing.html#returning-a-view-versus-a-copy\n",
            "  df_player[\"G\"] = pd.to_numeric(df_player[\"G\"]) # convert games to integer\n"
          ]
        },
        {
          "output_type": "stream",
          "name": "stdout",
          "text": [
            "pitcher\n"
          ]
        },
        {
          "output_type": "stream",
          "name": "stderr",
          "text": [
            "<ipython-input-3-39553ff2ec0b>:9: SettingWithCopyWarning: \n",
            "A value is trying to be set on a copy of a slice from a DataFrame.\n",
            "Try using .loc[row_indexer,col_indexer] = value instead\n",
            "\n",
            "See the caveats in the documentation: https://pandas.pydata.org/pandas-docs/stable/user_guide/indexing.html#returning-a-view-versus-a-copy\n",
            "  df_player[\"G\"] = pd.to_numeric(df_player[\"G\"]) # convert games to integer\n"
          ]
        },
        {
          "output_type": "stream",
          "name": "stdout",
          "text": [
            "/players/a/avilaal01.shtml\n",
            "pitcher\n"
          ]
        },
        {
          "output_type": "stream",
          "name": "stderr",
          "text": [
            "<ipython-input-3-39553ff2ec0b>:9: SettingWithCopyWarning: \n",
            "A value is trying to be set on a copy of a slice from a DataFrame.\n",
            "Try using .loc[row_indexer,col_indexer] = value instead\n",
            "\n",
            "See the caveats in the documentation: https://pandas.pydata.org/pandas-docs/stable/user_guide/indexing.html#returning-a-view-versus-a-copy\n",
            "  df_player[\"G\"] = pd.to_numeric(df_player[\"G\"]) # convert games to integer\n"
          ]
        },
        {
          "output_type": "stream",
          "name": "stdout",
          "text": [
            "/players/a/avilemi01.shtml\n"
          ]
        },
        {
          "output_type": "stream",
          "name": "stderr",
          "text": [
            "<ipython-input-3-39553ff2ec0b>:9: SettingWithCopyWarning: \n",
            "A value is trying to be set on a copy of a slice from a DataFrame.\n",
            "Try using .loc[row_indexer,col_indexer] = value instead\n",
            "\n",
            "See the caveats in the documentation: https://pandas.pydata.org/pandas-docs/stable/user_guide/indexing.html#returning-a-view-versus-a-copy\n",
            "  df_player[\"G\"] = pd.to_numeric(df_player[\"G\"]) # convert games to integer\n"
          ]
        },
        {
          "output_type": "stream",
          "name": "stdout",
          "text": [
            "/players/a/avilera01.shtml\n",
            "pitcher\n",
            "pitcher\n"
          ]
        },
        {
          "output_type": "stream",
          "name": "stderr",
          "text": [
            "<ipython-input-3-39553ff2ec0b>:9: SettingWithCopyWarning: \n",
            "A value is trying to be set on a copy of a slice from a DataFrame.\n",
            "Try using .loc[row_indexer,col_indexer] = value instead\n",
            "\n",
            "See the caveats in the documentation: https://pandas.pydata.org/pandas-docs/stable/user_guide/indexing.html#returning-a-view-versus-a-copy\n",
            "  df_player[\"G\"] = pd.to_numeric(df_player[\"G\"]) # convert games to integer\n"
          ]
        },
        {
          "output_type": "stream",
          "name": "stdout",
          "text": [
            "/players/a/ayalabe01.shtml\n",
            "pitcher\n",
            "pitcher\n"
          ]
        },
        {
          "output_type": "stream",
          "name": "stderr",
          "text": [
            "<ipython-input-3-39553ff2ec0b>:9: SettingWithCopyWarning: \n",
            "A value is trying to be set on a copy of a slice from a DataFrame.\n",
            "Try using .loc[row_indexer,col_indexer] = value instead\n",
            "\n",
            "See the caveats in the documentation: https://pandas.pydata.org/pandas-docs/stable/user_guide/indexing.html#returning-a-view-versus-a-copy\n",
            "  df_player[\"G\"] = pd.to_numeric(df_player[\"G\"]) # convert games to integer\n"
          ]
        },
        {
          "output_type": "stream",
          "name": "stdout",
          "text": [
            "/players/a/aybarer01.shtml\n",
            "pitcher\n"
          ]
        },
        {
          "output_type": "stream",
          "name": "stderr",
          "text": [
            "<ipython-input-3-39553ff2ec0b>:9: SettingWithCopyWarning: \n",
            "A value is trying to be set on a copy of a slice from a DataFrame.\n",
            "Try using .loc[row_indexer,col_indexer] = value instead\n",
            "\n",
            "See the caveats in the documentation: https://pandas.pydata.org/pandas-docs/stable/user_guide/indexing.html#returning-a-view-versus-a-copy\n",
            "  df_player[\"G\"] = pd.to_numeric(df_player[\"G\"]) # convert games to integer\n"
          ]
        },
        {
          "output_type": "stream",
          "name": "stdout",
          "text": [
            "/players/a/aybarwi01.shtml\n",
            "pitcher\n"
          ]
        },
        {
          "output_type": "stream",
          "name": "stderr",
          "text": [
            "<ipython-input-3-39553ff2ec0b>:9: SettingWithCopyWarning: \n",
            "A value is trying to be set on a copy of a slice from a DataFrame.\n",
            "Try using .loc[row_indexer,col_indexer] = value instead\n",
            "\n",
            "See the caveats in the documentation: https://pandas.pydata.org/pandas-docs/stable/user_guide/indexing.html#returning-a-view-versus-a-copy\n",
            "  df_player[\"G\"] = pd.to_numeric(df_player[\"G\"]) # convert games to integer\n"
          ]
        },
        {
          "output_type": "stream",
          "name": "stdout",
          "text": [
            "pitcher\n"
          ]
        },
        {
          "output_type": "stream",
          "name": "stderr",
          "text": [
            "<ipython-input-3-39553ff2ec0b>:9: SettingWithCopyWarning: \n",
            "A value is trying to be set on a copy of a slice from a DataFrame.\n",
            "Try using .loc[row_indexer,col_indexer] = value instead\n",
            "\n",
            "See the caveats in the documentation: https://pandas.pydata.org/pandas-docs/stable/user_guide/indexing.html#returning-a-view-versus-a-copy\n",
            "  df_player[\"G\"] = pd.to_numeric(df_player[\"G\"]) # convert games to integer\n"
          ]
        },
        {
          "output_type": "stream",
          "name": "stdout",
          "text": [
            "/players/a/azocaos01.shtml\n"
          ]
        },
        {
          "output_type": "execute_result",
          "data": {
            "text/plain": [
              "    Year Age   Tm  Lg      G     PA     AB     R     H    2B  ...     TB  GDP  \\\n",
              "0   1998  25  CHW  AL   89.0  261.0  244.0  33.0  68.0  14.0  ...  120.0  2.0   \n",
              "1   1994  25  FLA  NL  101.0  371.0  345.0  41.0  86.0  17.0  ...  136.0  5.0   \n",
              "2   2006  25  FLA  NL  111.0  281.0  255.0  39.0  54.0  12.0  ...   85.0  2.0   \n",
              "3   2001  23  TBD  AL   79.0  335.0  304.0  43.0  82.0  17.0  ...  116.0  3.0   \n",
              "4   1989  23  SDP  NL   57.0  108.0  102.0  13.0  18.0   4.0  ...   28.0  1.0   \n",
              "..   ...  ..  ...  ..    ...    ...    ...   ...   ...   ...  ...    ...  ...   \n",
              "95  1980  28  PHI  NL   51.0  115.0  101.0  12.0  28.0   6.0  ...   40.0  3.0   \n",
              "96  1979  28  BAL  AL   42.0   94.0   86.0  15.0  22.0   5.0  ...   45.0  2.0   \n",
              "97  2007  23  LAA  AL   79.0  211.0  194.0  18.0  46.0   5.0  ...   56.0  8.0   \n",
              "98  2006  23  TOT  NL   79.0  278.0  243.0  32.0  68.0  18.0  ...   98.0  7.0   \n",
              "99  1990  25  NYY  AL   65.0  218.0  214.0  18.0  53.0   8.0  ...   76.0  1.0   \n",
              "\n",
              "    HBP   SH   SF  IBB       Pos Awards   WAR Unnamed: 30  \n",
              "0   0.0  2.0  5.0  1.0    897H/D    NaN  -1.4         NaN  \n",
              "1   5.0  3.0  2.0  1.0      *6/H    NaN   0.5         NaN  \n",
              "2   3.0  4.0  1.0  2.0     8H9/7    NaN  -0.2         NaN  \n",
              "3   0.0  3.0  1.0  1.0       4/H    NaN   0.0         NaN  \n",
              "4   0.0  0.0  1.0  2.0     87H/9    NaN  -1.3         NaN  \n",
              "..  ...  ...  ...  ...       ...    ...   ...         ...  \n",
              "95  0.0  2.0  2.0  2.0       64H    NaN  -0.1         NaN  \n",
              "96  0.0  0.0  2.0  1.0     7HD/9    NaN   1.0         NaN  \n",
              "97  2.0  3.0  2.0  0.0  4H6/7D95    NaN  22.8         NaN  \n",
              "98  4.0  3.0  0.0  0.0       54H    NaN   2.8         NaN  \n",
              "99  1.0  0.0  1.0  0.0     79/HD    NaN  -0.2         NaN  \n",
              "\n",
              "[100 rows x 32 columns]"
            ],
            "text/html": [
              "\n",
              "  <div id=\"df-058086ab-489c-4e0c-bc2d-dc4f138d77f2\" class=\"colab-df-container\">\n",
              "    <div>\n",
              "<style scoped>\n",
              "    .dataframe tbody tr th:only-of-type {\n",
              "        vertical-align: middle;\n",
              "    }\n",
              "\n",
              "    .dataframe tbody tr th {\n",
              "        vertical-align: top;\n",
              "    }\n",
              "\n",
              "    .dataframe thead th {\n",
              "        text-align: right;\n",
              "    }\n",
              "</style>\n",
              "<table border=\"1\" class=\"dataframe\">\n",
              "  <thead>\n",
              "    <tr style=\"text-align: right;\">\n",
              "      <th></th>\n",
              "      <th>Year</th>\n",
              "      <th>Age</th>\n",
              "      <th>Tm</th>\n",
              "      <th>Lg</th>\n",
              "      <th>G</th>\n",
              "      <th>PA</th>\n",
              "      <th>AB</th>\n",
              "      <th>R</th>\n",
              "      <th>H</th>\n",
              "      <th>2B</th>\n",
              "      <th>...</th>\n",
              "      <th>TB</th>\n",
              "      <th>GDP</th>\n",
              "      <th>HBP</th>\n",
              "      <th>SH</th>\n",
              "      <th>SF</th>\n",
              "      <th>IBB</th>\n",
              "      <th>Pos</th>\n",
              "      <th>Awards</th>\n",
              "      <th>WAR</th>\n",
              "      <th>Unnamed: 30</th>\n",
              "    </tr>\n",
              "  </thead>\n",
              "  <tbody>\n",
              "    <tr>\n",
              "      <th>0</th>\n",
              "      <td>1998</td>\n",
              "      <td>25</td>\n",
              "      <td>CHW</td>\n",
              "      <td>AL</td>\n",
              "      <td>89.0</td>\n",
              "      <td>261.0</td>\n",
              "      <td>244.0</td>\n",
              "      <td>33.0</td>\n",
              "      <td>68.0</td>\n",
              "      <td>14.0</td>\n",
              "      <td>...</td>\n",
              "      <td>120.0</td>\n",
              "      <td>2.0</td>\n",
              "      <td>0.0</td>\n",
              "      <td>2.0</td>\n",
              "      <td>5.0</td>\n",
              "      <td>1.0</td>\n",
              "      <td>897H/D</td>\n",
              "      <td>NaN</td>\n",
              "      <td>-1.4</td>\n",
              "      <td>NaN</td>\n",
              "    </tr>\n",
              "    <tr>\n",
              "      <th>1</th>\n",
              "      <td>1994</td>\n",
              "      <td>25</td>\n",
              "      <td>FLA</td>\n",
              "      <td>NL</td>\n",
              "      <td>101.0</td>\n",
              "      <td>371.0</td>\n",
              "      <td>345.0</td>\n",
              "      <td>41.0</td>\n",
              "      <td>86.0</td>\n",
              "      <td>17.0</td>\n",
              "      <td>...</td>\n",
              "      <td>136.0</td>\n",
              "      <td>5.0</td>\n",
              "      <td>5.0</td>\n",
              "      <td>3.0</td>\n",
              "      <td>2.0</td>\n",
              "      <td>1.0</td>\n",
              "      <td>*6/H</td>\n",
              "      <td>NaN</td>\n",
              "      <td>0.5</td>\n",
              "      <td>NaN</td>\n",
              "    </tr>\n",
              "    <tr>\n",
              "      <th>2</th>\n",
              "      <td>2006</td>\n",
              "      <td>25</td>\n",
              "      <td>FLA</td>\n",
              "      <td>NL</td>\n",
              "      <td>111.0</td>\n",
              "      <td>281.0</td>\n",
              "      <td>255.0</td>\n",
              "      <td>39.0</td>\n",
              "      <td>54.0</td>\n",
              "      <td>12.0</td>\n",
              "      <td>...</td>\n",
              "      <td>85.0</td>\n",
              "      <td>2.0</td>\n",
              "      <td>3.0</td>\n",
              "      <td>4.0</td>\n",
              "      <td>1.0</td>\n",
              "      <td>2.0</td>\n",
              "      <td>8H9/7</td>\n",
              "      <td>NaN</td>\n",
              "      <td>-0.2</td>\n",
              "      <td>NaN</td>\n",
              "    </tr>\n",
              "    <tr>\n",
              "      <th>3</th>\n",
              "      <td>2001</td>\n",
              "      <td>23</td>\n",
              "      <td>TBD</td>\n",
              "      <td>AL</td>\n",
              "      <td>79.0</td>\n",
              "      <td>335.0</td>\n",
              "      <td>304.0</td>\n",
              "      <td>43.0</td>\n",
              "      <td>82.0</td>\n",
              "      <td>17.0</td>\n",
              "      <td>...</td>\n",
              "      <td>116.0</td>\n",
              "      <td>3.0</td>\n",
              "      <td>0.0</td>\n",
              "      <td>3.0</td>\n",
              "      <td>1.0</td>\n",
              "      <td>1.0</td>\n",
              "      <td>4/H</td>\n",
              "      <td>NaN</td>\n",
              "      <td>0.0</td>\n",
              "      <td>NaN</td>\n",
              "    </tr>\n",
              "    <tr>\n",
              "      <th>4</th>\n",
              "      <td>1989</td>\n",
              "      <td>23</td>\n",
              "      <td>SDP</td>\n",
              "      <td>NL</td>\n",
              "      <td>57.0</td>\n",
              "      <td>108.0</td>\n",
              "      <td>102.0</td>\n",
              "      <td>13.0</td>\n",
              "      <td>18.0</td>\n",
              "      <td>4.0</td>\n",
              "      <td>...</td>\n",
              "      <td>28.0</td>\n",
              "      <td>1.0</td>\n",
              "      <td>0.0</td>\n",
              "      <td>0.0</td>\n",
              "      <td>1.0</td>\n",
              "      <td>2.0</td>\n",
              "      <td>87H/9</td>\n",
              "      <td>NaN</td>\n",
              "      <td>-1.3</td>\n",
              "      <td>NaN</td>\n",
              "    </tr>\n",
              "    <tr>\n",
              "      <th>...</th>\n",
              "      <td>...</td>\n",
              "      <td>...</td>\n",
              "      <td>...</td>\n",
              "      <td>...</td>\n",
              "      <td>...</td>\n",
              "      <td>...</td>\n",
              "      <td>...</td>\n",
              "      <td>...</td>\n",
              "      <td>...</td>\n",
              "      <td>...</td>\n",
              "      <td>...</td>\n",
              "      <td>...</td>\n",
              "      <td>...</td>\n",
              "      <td>...</td>\n",
              "      <td>...</td>\n",
              "      <td>...</td>\n",
              "      <td>...</td>\n",
              "      <td>...</td>\n",
              "      <td>...</td>\n",
              "      <td>...</td>\n",
              "      <td>...</td>\n",
              "    </tr>\n",
              "    <tr>\n",
              "      <th>95</th>\n",
              "      <td>1980</td>\n",
              "      <td>28</td>\n",
              "      <td>PHI</td>\n",
              "      <td>NL</td>\n",
              "      <td>51.0</td>\n",
              "      <td>115.0</td>\n",
              "      <td>101.0</td>\n",
              "      <td>12.0</td>\n",
              "      <td>28.0</td>\n",
              "      <td>6.0</td>\n",
              "      <td>...</td>\n",
              "      <td>40.0</td>\n",
              "      <td>3.0</td>\n",
              "      <td>0.0</td>\n",
              "      <td>2.0</td>\n",
              "      <td>2.0</td>\n",
              "      <td>2.0</td>\n",
              "      <td>64H</td>\n",
              "      <td>NaN</td>\n",
              "      <td>-0.1</td>\n",
              "      <td>NaN</td>\n",
              "    </tr>\n",
              "    <tr>\n",
              "      <th>96</th>\n",
              "      <td>1979</td>\n",
              "      <td>28</td>\n",
              "      <td>BAL</td>\n",
              "      <td>AL</td>\n",
              "      <td>42.0</td>\n",
              "      <td>94.0</td>\n",
              "      <td>86.0</td>\n",
              "      <td>15.0</td>\n",
              "      <td>22.0</td>\n",
              "      <td>5.0</td>\n",
              "      <td>...</td>\n",
              "      <td>45.0</td>\n",
              "      <td>2.0</td>\n",
              "      <td>0.0</td>\n",
              "      <td>0.0</td>\n",
              "      <td>2.0</td>\n",
              "      <td>1.0</td>\n",
              "      <td>7HD/9</td>\n",
              "      <td>NaN</td>\n",
              "      <td>1.0</td>\n",
              "      <td>NaN</td>\n",
              "    </tr>\n",
              "    <tr>\n",
              "      <th>97</th>\n",
              "      <td>2007</td>\n",
              "      <td>23</td>\n",
              "      <td>LAA</td>\n",
              "      <td>AL</td>\n",
              "      <td>79.0</td>\n",
              "      <td>211.0</td>\n",
              "      <td>194.0</td>\n",
              "      <td>18.0</td>\n",
              "      <td>46.0</td>\n",
              "      <td>5.0</td>\n",
              "      <td>...</td>\n",
              "      <td>56.0</td>\n",
              "      <td>8.0</td>\n",
              "      <td>2.0</td>\n",
              "      <td>3.0</td>\n",
              "      <td>2.0</td>\n",
              "      <td>0.0</td>\n",
              "      <td>4H6/7D95</td>\n",
              "      <td>NaN</td>\n",
              "      <td>22.8</td>\n",
              "      <td>NaN</td>\n",
              "    </tr>\n",
              "    <tr>\n",
              "      <th>98</th>\n",
              "      <td>2006</td>\n",
              "      <td>23</td>\n",
              "      <td>TOT</td>\n",
              "      <td>NL</td>\n",
              "      <td>79.0</td>\n",
              "      <td>278.0</td>\n",
              "      <td>243.0</td>\n",
              "      <td>32.0</td>\n",
              "      <td>68.0</td>\n",
              "      <td>18.0</td>\n",
              "      <td>...</td>\n",
              "      <td>98.0</td>\n",
              "      <td>7.0</td>\n",
              "      <td>4.0</td>\n",
              "      <td>3.0</td>\n",
              "      <td>0.0</td>\n",
              "      <td>0.0</td>\n",
              "      <td>54H</td>\n",
              "      <td>NaN</td>\n",
              "      <td>2.8</td>\n",
              "      <td>NaN</td>\n",
              "    </tr>\n",
              "    <tr>\n",
              "      <th>99</th>\n",
              "      <td>1990</td>\n",
              "      <td>25</td>\n",
              "      <td>NYY</td>\n",
              "      <td>AL</td>\n",
              "      <td>65.0</td>\n",
              "      <td>218.0</td>\n",
              "      <td>214.0</td>\n",
              "      <td>18.0</td>\n",
              "      <td>53.0</td>\n",
              "      <td>8.0</td>\n",
              "      <td>...</td>\n",
              "      <td>76.0</td>\n",
              "      <td>1.0</td>\n",
              "      <td>1.0</td>\n",
              "      <td>0.0</td>\n",
              "      <td>1.0</td>\n",
              "      <td>0.0</td>\n",
              "      <td>79/HD</td>\n",
              "      <td>NaN</td>\n",
              "      <td>-0.2</td>\n",
              "      <td>NaN</td>\n",
              "    </tr>\n",
              "  </tbody>\n",
              "</table>\n",
              "<p>100 rows × 32 columns</p>\n",
              "</div>\n",
              "    <div class=\"colab-df-buttons\">\n",
              "\n",
              "  <div class=\"colab-df-container\">\n",
              "    <button class=\"colab-df-convert\" onclick=\"convertToInteractive('df-058086ab-489c-4e0c-bc2d-dc4f138d77f2')\"\n",
              "            title=\"Convert this dataframe to an interactive table.\"\n",
              "            style=\"display:none;\">\n",
              "\n",
              "  <svg xmlns=\"http://www.w3.org/2000/svg\" height=\"24px\" viewBox=\"0 -960 960 960\">\n",
              "    <path d=\"M120-120v-720h720v720H120Zm60-500h600v-160H180v160Zm220 220h160v-160H400v160Zm0 220h160v-160H400v160ZM180-400h160v-160H180v160Zm440 0h160v-160H620v160ZM180-180h160v-160H180v160Zm440 0h160v-160H620v160Z\"/>\n",
              "  </svg>\n",
              "    </button>\n",
              "\n",
              "  <style>\n",
              "    .colab-df-container {\n",
              "      display:flex;\n",
              "      gap: 12px;\n",
              "    }\n",
              "\n",
              "    .colab-df-convert {\n",
              "      background-color: #E8F0FE;\n",
              "      border: none;\n",
              "      border-radius: 50%;\n",
              "      cursor: pointer;\n",
              "      display: none;\n",
              "      fill: #1967D2;\n",
              "      height: 32px;\n",
              "      padding: 0 0 0 0;\n",
              "      width: 32px;\n",
              "    }\n",
              "\n",
              "    .colab-df-convert:hover {\n",
              "      background-color: #E2EBFA;\n",
              "      box-shadow: 0px 1px 2px rgba(60, 64, 67, 0.3), 0px 1px 3px 1px rgba(60, 64, 67, 0.15);\n",
              "      fill: #174EA6;\n",
              "    }\n",
              "\n",
              "    .colab-df-buttons div {\n",
              "      margin-bottom: 4px;\n",
              "    }\n",
              "\n",
              "    [theme=dark] .colab-df-convert {\n",
              "      background-color: #3B4455;\n",
              "      fill: #D2E3FC;\n",
              "    }\n",
              "\n",
              "    [theme=dark] .colab-df-convert:hover {\n",
              "      background-color: #434B5C;\n",
              "      box-shadow: 0px 1px 3px 1px rgba(0, 0, 0, 0.15);\n",
              "      filter: drop-shadow(0px 1px 2px rgba(0, 0, 0, 0.3));\n",
              "      fill: #FFFFFF;\n",
              "    }\n",
              "  </style>\n",
              "\n",
              "    <script>\n",
              "      const buttonEl =\n",
              "        document.querySelector('#df-058086ab-489c-4e0c-bc2d-dc4f138d77f2 button.colab-df-convert');\n",
              "      buttonEl.style.display =\n",
              "        google.colab.kernel.accessAllowed ? 'block' : 'none';\n",
              "\n",
              "      async function convertToInteractive(key) {\n",
              "        const element = document.querySelector('#df-058086ab-489c-4e0c-bc2d-dc4f138d77f2');\n",
              "        const dataTable =\n",
              "          await google.colab.kernel.invokeFunction('convertToInteractive',\n",
              "                                                    [key], {});\n",
              "        if (!dataTable) return;\n",
              "\n",
              "        const docLinkHtml = 'Like what you see? Visit the ' +\n",
              "          '<a target=\"_blank\" href=https://colab.research.google.com/notebooks/data_table.ipynb>data table notebook</a>'\n",
              "          + ' to learn more about interactive tables.';\n",
              "        element.innerHTML = '';\n",
              "        dataTable['output_type'] = 'display_data';\n",
              "        await google.colab.output.renderOutput(dataTable, element);\n",
              "        const docLink = document.createElement('div');\n",
              "        docLink.innerHTML = docLinkHtml;\n",
              "        element.appendChild(docLink);\n",
              "      }\n",
              "    </script>\n",
              "  </div>\n",
              "\n",
              "\n",
              "<div id=\"df-42a1a3ff-fe3d-45fd-aaa8-d69e2aada4b0\">\n",
              "  <button class=\"colab-df-quickchart\" onclick=\"quickchart('df-42a1a3ff-fe3d-45fd-aaa8-d69e2aada4b0')\"\n",
              "            title=\"Suggest charts\"\n",
              "            style=\"display:none;\">\n",
              "\n",
              "<svg xmlns=\"http://www.w3.org/2000/svg\" height=\"24px\"viewBox=\"0 0 24 24\"\n",
              "     width=\"24px\">\n",
              "    <g>\n",
              "        <path d=\"M19 3H5c-1.1 0-2 .9-2 2v14c0 1.1.9 2 2 2h14c1.1 0 2-.9 2-2V5c0-1.1-.9-2-2-2zM9 17H7v-7h2v7zm4 0h-2V7h2v10zm4 0h-2v-4h2v4z\"/>\n",
              "    </g>\n",
              "</svg>\n",
              "  </button>\n",
              "\n",
              "<style>\n",
              "  .colab-df-quickchart {\n",
              "      --bg-color: #E8F0FE;\n",
              "      --fill-color: #1967D2;\n",
              "      --hover-bg-color: #E2EBFA;\n",
              "      --hover-fill-color: #174EA6;\n",
              "      --disabled-fill-color: #AAA;\n",
              "      --disabled-bg-color: #DDD;\n",
              "  }\n",
              "\n",
              "  [theme=dark] .colab-df-quickchart {\n",
              "      --bg-color: #3B4455;\n",
              "      --fill-color: #D2E3FC;\n",
              "      --hover-bg-color: #434B5C;\n",
              "      --hover-fill-color: #FFFFFF;\n",
              "      --disabled-bg-color: #3B4455;\n",
              "      --disabled-fill-color: #666;\n",
              "  }\n",
              "\n",
              "  .colab-df-quickchart {\n",
              "    background-color: var(--bg-color);\n",
              "    border: none;\n",
              "    border-radius: 50%;\n",
              "    cursor: pointer;\n",
              "    display: none;\n",
              "    fill: var(--fill-color);\n",
              "    height: 32px;\n",
              "    padding: 0;\n",
              "    width: 32px;\n",
              "  }\n",
              "\n",
              "  .colab-df-quickchart:hover {\n",
              "    background-color: var(--hover-bg-color);\n",
              "    box-shadow: 0 1px 2px rgba(60, 64, 67, 0.3), 0 1px 3px 1px rgba(60, 64, 67, 0.15);\n",
              "    fill: var(--button-hover-fill-color);\n",
              "  }\n",
              "\n",
              "  .colab-df-quickchart-complete:disabled,\n",
              "  .colab-df-quickchart-complete:disabled:hover {\n",
              "    background-color: var(--disabled-bg-color);\n",
              "    fill: var(--disabled-fill-color);\n",
              "    box-shadow: none;\n",
              "  }\n",
              "\n",
              "  .colab-df-spinner {\n",
              "    border: 2px solid var(--fill-color);\n",
              "    border-color: transparent;\n",
              "    border-bottom-color: var(--fill-color);\n",
              "    animation:\n",
              "      spin 1s steps(1) infinite;\n",
              "  }\n",
              "\n",
              "  @keyframes spin {\n",
              "    0% {\n",
              "      border-color: transparent;\n",
              "      border-bottom-color: var(--fill-color);\n",
              "      border-left-color: var(--fill-color);\n",
              "    }\n",
              "    20% {\n",
              "      border-color: transparent;\n",
              "      border-left-color: var(--fill-color);\n",
              "      border-top-color: var(--fill-color);\n",
              "    }\n",
              "    30% {\n",
              "      border-color: transparent;\n",
              "      border-left-color: var(--fill-color);\n",
              "      border-top-color: var(--fill-color);\n",
              "      border-right-color: var(--fill-color);\n",
              "    }\n",
              "    40% {\n",
              "      border-color: transparent;\n",
              "      border-right-color: var(--fill-color);\n",
              "      border-top-color: var(--fill-color);\n",
              "    }\n",
              "    60% {\n",
              "      border-color: transparent;\n",
              "      border-right-color: var(--fill-color);\n",
              "    }\n",
              "    80% {\n",
              "      border-color: transparent;\n",
              "      border-right-color: var(--fill-color);\n",
              "      border-bottom-color: var(--fill-color);\n",
              "    }\n",
              "    90% {\n",
              "      border-color: transparent;\n",
              "      border-bottom-color: var(--fill-color);\n",
              "    }\n",
              "  }\n",
              "</style>\n",
              "\n",
              "  <script>\n",
              "    async function quickchart(key) {\n",
              "      const quickchartButtonEl =\n",
              "        document.querySelector('#' + key + ' button');\n",
              "      quickchartButtonEl.disabled = true;  // To prevent multiple clicks.\n",
              "      quickchartButtonEl.classList.add('colab-df-spinner');\n",
              "      try {\n",
              "        const charts = await google.colab.kernel.invokeFunction(\n",
              "            'suggestCharts', [key], {});\n",
              "      } catch (error) {\n",
              "        console.error('Error during call to suggestCharts:', error);\n",
              "      }\n",
              "      quickchartButtonEl.classList.remove('colab-df-spinner');\n",
              "      quickchartButtonEl.classList.add('colab-df-quickchart-complete');\n",
              "    }\n",
              "    (() => {\n",
              "      let quickchartButtonEl =\n",
              "        document.querySelector('#df-42a1a3ff-fe3d-45fd-aaa8-d69e2aada4b0 button');\n",
              "      quickchartButtonEl.style.display =\n",
              "        google.colab.kernel.accessAllowed ? 'block' : 'none';\n",
              "    })();\n",
              "  </script>\n",
              "</div>\n",
              "    </div>\n",
              "  </div>\n"
            ]
          },
          "metadata": {},
          "execution_count": 5
        }
      ],
      "source": [
        "pd.options.mode.chained_assignment = None  # default='warn'\n",
        "\n",
        "trainingData = pd.DataFrame()\n",
        "\n",
        "with open('playerLinks', 'rb') as pickle_file:\n",
        "  playerLinks = pickle.load(pickle_file)\n",
        "\n",
        "for link in playerLinks:\n",
        "  htmlStr = 'https://www.baseball-reference.com' + link\n",
        "  try:\n",
        "    response = requests.get(htmlStr)\n",
        "\n",
        "\n",
        "    soup = BeautifulSoup(response.content, \"html.parser\")\n",
        "    table = soup.find_all('table', attrs={'id' : 'batting_standard'})\n",
        "\n",
        "    df_player = pd.read_html(str(table))[0]\n",
        "    rookie_season = get_rookie_season(df_player)\n",
        "    war = get_War(soup)\n",
        "    rookie_season[\"WAR\"] = war\n",
        "\n",
        "    trainingData = pd.concat([trainingData, rookie_season.to_frame().T], ignore_index=True) # add this to the dataframe\n",
        "    time.sleep(3.1)\n",
        "\n",
        "    print(link)\n",
        "  except:\n",
        "    time.sleep(3.1)\n",
        "    print('pitcher')\n",
        "\n",
        "\n",
        "trainingData.to_csv('data.csv', index=False)\n",
        "trainingData"
      ]
    },
    {
      "cell_type": "code",
      "source": [
        "df_stats = pd.read_csv('data.csv')\n",
        "df_stats = df_stats.drop('Unnamed: 30', axis=1)"
      ],
      "metadata": {
        "id": "bXoIUw5irneF"
      },
      "execution_count": null,
      "outputs": []
    },
    {
      "cell_type": "markdown",
      "source": [
        "Here we preview df_stats, which is the df that holds all player information we scrape from Baseball Reference."
      ],
      "metadata": {
        "id": "rSY5yNUoZL-W"
      }
    },
    {
      "cell_type": "code",
      "source": [
        "df_stats"
      ],
      "metadata": {
        "colab": {
          "base_uri": "https://localhost:8080/",
          "height": 444
        },
        "id": "Beax0YUFr9v2",
        "outputId": "0845a337-f3a7-44e8-cf2d-cc298e21218e"
      },
      "execution_count": null,
      "outputs": [
        {
          "output_type": "execute_result",
          "data": {
            "text/plain": [
              "      Year  Age   Tm  Lg      G     PA     AB     R      H    2B  ...   OPS+  \\\n",
              "0     1954   20  MLN  NL  122.0  509.0  468.0  58.0  131.0  27.0  ...  104.0   \n",
              "1     1962   22  MLN  NL  141.0  382.0  334.0  54.0   77.0  20.0  ...   86.0   \n",
              "2     1998   25  CHW  AL   89.0  261.0  244.0  33.0   68.0  14.0  ...  104.0   \n",
              "3     1994   25  FLA  NL  101.0  371.0  345.0  41.0   86.0  17.0  ...   76.0   \n",
              "4     2006   25  FLA  NL  111.0  281.0  255.0  39.0   54.0  12.0  ...   58.0   \n",
              "...    ...  ...  ...  ..    ...    ...    ...   ...    ...   ...  ...    ...   \n",
              "4378  1973   24  PIT  NL  103.0  354.0  333.0  44.0  108.0  23.0  ...  147.0   \n",
              "4379  2006   25  TBD  AL   52.0  198.0  183.0  10.0   41.0   6.0  ...   48.0   \n",
              "4380  2001   26  CHC  NL   49.0  118.0  106.0  11.0   23.0   3.0  ...   83.0   \n",
              "4381  1992   25  BOS  AL  124.0  432.0  392.0  46.0  108.0  19.0  ...   85.0   \n",
              "4382  1985   26  ATL  NL   81.0  210.0  190.0  16.0   48.0   8.0  ...   70.0   \n",
              "\n",
              "         TB   GDP  HBP   SH   SF  IBB      Pos  Awards    WAR  \n",
              "0     209.0  13.0  3.0  6.0  4.0  0.0    *79/H   RoY-4  143.0  \n",
              "1     125.0  10.0  0.0  4.0  3.0  0.0  *37H/45     NaN   -2.8  \n",
              "2     120.0   2.0  0.0  2.0  5.0  1.0   897H/D     NaN   -1.4  \n",
              "3     136.0   5.0  5.0  3.0  2.0  1.0     *6/H     NaN    0.5  \n",
              "4      85.0   2.0  3.0  4.0  1.0  2.0    8H9/7     NaN   -0.2  \n",
              "...     ...   ...  ...  ...  ...  ...      ...     ...    ...  \n",
              "4378  175.0   8.0  0.0  0.0  0.0  0.0      97H   RoY-9   25.1  \n",
              "4379   57.0   2.0  0.0  2.0  3.0  1.0      6/H     NaN   44.5  \n",
              "4380   44.0   3.0  3.0  0.0  1.0  1.0       3H     NaN   -0.2  \n",
              "4381  138.0   6.0  4.0  7.0  4.0  1.0  *879H/D     NaN   -0.7  \n",
              "4382   58.0   3.0  0.0  4.0  0.0  1.0    46/H5     NaN   -2.3  \n",
              "\n",
              "[4383 rows x 31 columns]"
            ],
            "text/html": [
              "\n",
              "  <div id=\"df-55704e93-8832-4b4f-853f-74bc9aeee15e\" class=\"colab-df-container\">\n",
              "    <div>\n",
              "<style scoped>\n",
              "    .dataframe tbody tr th:only-of-type {\n",
              "        vertical-align: middle;\n",
              "    }\n",
              "\n",
              "    .dataframe tbody tr th {\n",
              "        vertical-align: top;\n",
              "    }\n",
              "\n",
              "    .dataframe thead th {\n",
              "        text-align: right;\n",
              "    }\n",
              "</style>\n",
              "<table border=\"1\" class=\"dataframe\">\n",
              "  <thead>\n",
              "    <tr style=\"text-align: right;\">\n",
              "      <th></th>\n",
              "      <th>Year</th>\n",
              "      <th>Age</th>\n",
              "      <th>Tm</th>\n",
              "      <th>Lg</th>\n",
              "      <th>G</th>\n",
              "      <th>PA</th>\n",
              "      <th>AB</th>\n",
              "      <th>R</th>\n",
              "      <th>H</th>\n",
              "      <th>2B</th>\n",
              "      <th>...</th>\n",
              "      <th>OPS+</th>\n",
              "      <th>TB</th>\n",
              "      <th>GDP</th>\n",
              "      <th>HBP</th>\n",
              "      <th>SH</th>\n",
              "      <th>SF</th>\n",
              "      <th>IBB</th>\n",
              "      <th>Pos</th>\n",
              "      <th>Awards</th>\n",
              "      <th>WAR</th>\n",
              "    </tr>\n",
              "  </thead>\n",
              "  <tbody>\n",
              "    <tr>\n",
              "      <th>0</th>\n",
              "      <td>1954</td>\n",
              "      <td>20</td>\n",
              "      <td>MLN</td>\n",
              "      <td>NL</td>\n",
              "      <td>122.0</td>\n",
              "      <td>509.0</td>\n",
              "      <td>468.0</td>\n",
              "      <td>58.0</td>\n",
              "      <td>131.0</td>\n",
              "      <td>27.0</td>\n",
              "      <td>...</td>\n",
              "      <td>104.0</td>\n",
              "      <td>209.0</td>\n",
              "      <td>13.0</td>\n",
              "      <td>3.0</td>\n",
              "      <td>6.0</td>\n",
              "      <td>4.0</td>\n",
              "      <td>0.0</td>\n",
              "      <td>*79/H</td>\n",
              "      <td>RoY-4</td>\n",
              "      <td>143.0</td>\n",
              "    </tr>\n",
              "    <tr>\n",
              "      <th>1</th>\n",
              "      <td>1962</td>\n",
              "      <td>22</td>\n",
              "      <td>MLN</td>\n",
              "      <td>NL</td>\n",
              "      <td>141.0</td>\n",
              "      <td>382.0</td>\n",
              "      <td>334.0</td>\n",
              "      <td>54.0</td>\n",
              "      <td>77.0</td>\n",
              "      <td>20.0</td>\n",
              "      <td>...</td>\n",
              "      <td>86.0</td>\n",
              "      <td>125.0</td>\n",
              "      <td>10.0</td>\n",
              "      <td>0.0</td>\n",
              "      <td>4.0</td>\n",
              "      <td>3.0</td>\n",
              "      <td>0.0</td>\n",
              "      <td>*37H/45</td>\n",
              "      <td>NaN</td>\n",
              "      <td>-2.8</td>\n",
              "    </tr>\n",
              "    <tr>\n",
              "      <th>2</th>\n",
              "      <td>1998</td>\n",
              "      <td>25</td>\n",
              "      <td>CHW</td>\n",
              "      <td>AL</td>\n",
              "      <td>89.0</td>\n",
              "      <td>261.0</td>\n",
              "      <td>244.0</td>\n",
              "      <td>33.0</td>\n",
              "      <td>68.0</td>\n",
              "      <td>14.0</td>\n",
              "      <td>...</td>\n",
              "      <td>104.0</td>\n",
              "      <td>120.0</td>\n",
              "      <td>2.0</td>\n",
              "      <td>0.0</td>\n",
              "      <td>2.0</td>\n",
              "      <td>5.0</td>\n",
              "      <td>1.0</td>\n",
              "      <td>897H/D</td>\n",
              "      <td>NaN</td>\n",
              "      <td>-1.4</td>\n",
              "    </tr>\n",
              "    <tr>\n",
              "      <th>3</th>\n",
              "      <td>1994</td>\n",
              "      <td>25</td>\n",
              "      <td>FLA</td>\n",
              "      <td>NL</td>\n",
              "      <td>101.0</td>\n",
              "      <td>371.0</td>\n",
              "      <td>345.0</td>\n",
              "      <td>41.0</td>\n",
              "      <td>86.0</td>\n",
              "      <td>17.0</td>\n",
              "      <td>...</td>\n",
              "      <td>76.0</td>\n",
              "      <td>136.0</td>\n",
              "      <td>5.0</td>\n",
              "      <td>5.0</td>\n",
              "      <td>3.0</td>\n",
              "      <td>2.0</td>\n",
              "      <td>1.0</td>\n",
              "      <td>*6/H</td>\n",
              "      <td>NaN</td>\n",
              "      <td>0.5</td>\n",
              "    </tr>\n",
              "    <tr>\n",
              "      <th>4</th>\n",
              "      <td>2006</td>\n",
              "      <td>25</td>\n",
              "      <td>FLA</td>\n",
              "      <td>NL</td>\n",
              "      <td>111.0</td>\n",
              "      <td>281.0</td>\n",
              "      <td>255.0</td>\n",
              "      <td>39.0</td>\n",
              "      <td>54.0</td>\n",
              "      <td>12.0</td>\n",
              "      <td>...</td>\n",
              "      <td>58.0</td>\n",
              "      <td>85.0</td>\n",
              "      <td>2.0</td>\n",
              "      <td>3.0</td>\n",
              "      <td>4.0</td>\n",
              "      <td>1.0</td>\n",
              "      <td>2.0</td>\n",
              "      <td>8H9/7</td>\n",
              "      <td>NaN</td>\n",
              "      <td>-0.2</td>\n",
              "    </tr>\n",
              "    <tr>\n",
              "      <th>...</th>\n",
              "      <td>...</td>\n",
              "      <td>...</td>\n",
              "      <td>...</td>\n",
              "      <td>...</td>\n",
              "      <td>...</td>\n",
              "      <td>...</td>\n",
              "      <td>...</td>\n",
              "      <td>...</td>\n",
              "      <td>...</td>\n",
              "      <td>...</td>\n",
              "      <td>...</td>\n",
              "      <td>...</td>\n",
              "      <td>...</td>\n",
              "      <td>...</td>\n",
              "      <td>...</td>\n",
              "      <td>...</td>\n",
              "      <td>...</td>\n",
              "      <td>...</td>\n",
              "      <td>...</td>\n",
              "      <td>...</td>\n",
              "      <td>...</td>\n",
              "    </tr>\n",
              "    <tr>\n",
              "      <th>4378</th>\n",
              "      <td>1973</td>\n",
              "      <td>24</td>\n",
              "      <td>PIT</td>\n",
              "      <td>NL</td>\n",
              "      <td>103.0</td>\n",
              "      <td>354.0</td>\n",
              "      <td>333.0</td>\n",
              "      <td>44.0</td>\n",
              "      <td>108.0</td>\n",
              "      <td>23.0</td>\n",
              "      <td>...</td>\n",
              "      <td>147.0</td>\n",
              "      <td>175.0</td>\n",
              "      <td>8.0</td>\n",
              "      <td>0.0</td>\n",
              "      <td>0.0</td>\n",
              "      <td>0.0</td>\n",
              "      <td>0.0</td>\n",
              "      <td>97H</td>\n",
              "      <td>RoY-9</td>\n",
              "      <td>25.1</td>\n",
              "    </tr>\n",
              "    <tr>\n",
              "      <th>4379</th>\n",
              "      <td>2006</td>\n",
              "      <td>25</td>\n",
              "      <td>TBD</td>\n",
              "      <td>AL</td>\n",
              "      <td>52.0</td>\n",
              "      <td>198.0</td>\n",
              "      <td>183.0</td>\n",
              "      <td>10.0</td>\n",
              "      <td>41.0</td>\n",
              "      <td>6.0</td>\n",
              "      <td>...</td>\n",
              "      <td>48.0</td>\n",
              "      <td>57.0</td>\n",
              "      <td>2.0</td>\n",
              "      <td>0.0</td>\n",
              "      <td>2.0</td>\n",
              "      <td>3.0</td>\n",
              "      <td>1.0</td>\n",
              "      <td>6/H</td>\n",
              "      <td>NaN</td>\n",
              "      <td>44.5</td>\n",
              "    </tr>\n",
              "    <tr>\n",
              "      <th>4380</th>\n",
              "      <td>2001</td>\n",
              "      <td>26</td>\n",
              "      <td>CHC</td>\n",
              "      <td>NL</td>\n",
              "      <td>49.0</td>\n",
              "      <td>118.0</td>\n",
              "      <td>106.0</td>\n",
              "      <td>11.0</td>\n",
              "      <td>23.0</td>\n",
              "      <td>3.0</td>\n",
              "      <td>...</td>\n",
              "      <td>83.0</td>\n",
              "      <td>44.0</td>\n",
              "      <td>3.0</td>\n",
              "      <td>3.0</td>\n",
              "      <td>0.0</td>\n",
              "      <td>1.0</td>\n",
              "      <td>1.0</td>\n",
              "      <td>3H</td>\n",
              "      <td>NaN</td>\n",
              "      <td>-0.2</td>\n",
              "    </tr>\n",
              "    <tr>\n",
              "      <th>4381</th>\n",
              "      <td>1992</td>\n",
              "      <td>25</td>\n",
              "      <td>BOS</td>\n",
              "      <td>AL</td>\n",
              "      <td>124.0</td>\n",
              "      <td>432.0</td>\n",
              "      <td>392.0</td>\n",
              "      <td>46.0</td>\n",
              "      <td>108.0</td>\n",
              "      <td>19.0</td>\n",
              "      <td>...</td>\n",
              "      <td>85.0</td>\n",
              "      <td>138.0</td>\n",
              "      <td>6.0</td>\n",
              "      <td>4.0</td>\n",
              "      <td>7.0</td>\n",
              "      <td>4.0</td>\n",
              "      <td>1.0</td>\n",
              "      <td>*879H/D</td>\n",
              "      <td>NaN</td>\n",
              "      <td>-0.7</td>\n",
              "    </tr>\n",
              "    <tr>\n",
              "      <th>4382</th>\n",
              "      <td>1985</td>\n",
              "      <td>26</td>\n",
              "      <td>ATL</td>\n",
              "      <td>NL</td>\n",
              "      <td>81.0</td>\n",
              "      <td>210.0</td>\n",
              "      <td>190.0</td>\n",
              "      <td>16.0</td>\n",
              "      <td>48.0</td>\n",
              "      <td>8.0</td>\n",
              "      <td>...</td>\n",
              "      <td>70.0</td>\n",
              "      <td>58.0</td>\n",
              "      <td>3.0</td>\n",
              "      <td>0.0</td>\n",
              "      <td>4.0</td>\n",
              "      <td>0.0</td>\n",
              "      <td>1.0</td>\n",
              "      <td>46/H5</td>\n",
              "      <td>NaN</td>\n",
              "      <td>-2.3</td>\n",
              "    </tr>\n",
              "  </tbody>\n",
              "</table>\n",
              "<p>4383 rows × 31 columns</p>\n",
              "</div>\n",
              "    <div class=\"colab-df-buttons\">\n",
              "\n",
              "  <div class=\"colab-df-container\">\n",
              "    <button class=\"colab-df-convert\" onclick=\"convertToInteractive('df-55704e93-8832-4b4f-853f-74bc9aeee15e')\"\n",
              "            title=\"Convert this dataframe to an interactive table.\"\n",
              "            style=\"display:none;\">\n",
              "\n",
              "  <svg xmlns=\"http://www.w3.org/2000/svg\" height=\"24px\" viewBox=\"0 -960 960 960\">\n",
              "    <path d=\"M120-120v-720h720v720H120Zm60-500h600v-160H180v160Zm220 220h160v-160H400v160Zm0 220h160v-160H400v160ZM180-400h160v-160H180v160Zm440 0h160v-160H620v160ZM180-180h160v-160H180v160Zm440 0h160v-160H620v160Z\"/>\n",
              "  </svg>\n",
              "    </button>\n",
              "\n",
              "  <style>\n",
              "    .colab-df-container {\n",
              "      display:flex;\n",
              "      gap: 12px;\n",
              "    }\n",
              "\n",
              "    .colab-df-convert {\n",
              "      background-color: #E8F0FE;\n",
              "      border: none;\n",
              "      border-radius: 50%;\n",
              "      cursor: pointer;\n",
              "      display: none;\n",
              "      fill: #1967D2;\n",
              "      height: 32px;\n",
              "      padding: 0 0 0 0;\n",
              "      width: 32px;\n",
              "    }\n",
              "\n",
              "    .colab-df-convert:hover {\n",
              "      background-color: #E2EBFA;\n",
              "      box-shadow: 0px 1px 2px rgba(60, 64, 67, 0.3), 0px 1px 3px 1px rgba(60, 64, 67, 0.15);\n",
              "      fill: #174EA6;\n",
              "    }\n",
              "\n",
              "    .colab-df-buttons div {\n",
              "      margin-bottom: 4px;\n",
              "    }\n",
              "\n",
              "    [theme=dark] .colab-df-convert {\n",
              "      background-color: #3B4455;\n",
              "      fill: #D2E3FC;\n",
              "    }\n",
              "\n",
              "    [theme=dark] .colab-df-convert:hover {\n",
              "      background-color: #434B5C;\n",
              "      box-shadow: 0px 1px 3px 1px rgba(0, 0, 0, 0.15);\n",
              "      filter: drop-shadow(0px 1px 2px rgba(0, 0, 0, 0.3));\n",
              "      fill: #FFFFFF;\n",
              "    }\n",
              "  </style>\n",
              "\n",
              "    <script>\n",
              "      const buttonEl =\n",
              "        document.querySelector('#df-55704e93-8832-4b4f-853f-74bc9aeee15e button.colab-df-convert');\n",
              "      buttonEl.style.display =\n",
              "        google.colab.kernel.accessAllowed ? 'block' : 'none';\n",
              "\n",
              "      async function convertToInteractive(key) {\n",
              "        const element = document.querySelector('#df-55704e93-8832-4b4f-853f-74bc9aeee15e');\n",
              "        const dataTable =\n",
              "          await google.colab.kernel.invokeFunction('convertToInteractive',\n",
              "                                                    [key], {});\n",
              "        if (!dataTable) return;\n",
              "\n",
              "        const docLinkHtml = 'Like what you see? Visit the ' +\n",
              "          '<a target=\"_blank\" href=https://colab.research.google.com/notebooks/data_table.ipynb>data table notebook</a>'\n",
              "          + ' to learn more about interactive tables.';\n",
              "        element.innerHTML = '';\n",
              "        dataTable['output_type'] = 'display_data';\n",
              "        await google.colab.output.renderOutput(dataTable, element);\n",
              "        const docLink = document.createElement('div');\n",
              "        docLink.innerHTML = docLinkHtml;\n",
              "        element.appendChild(docLink);\n",
              "      }\n",
              "    </script>\n",
              "  </div>\n",
              "\n",
              "\n",
              "<div id=\"df-847aa504-25a7-42bf-a367-a6541b53f25b\">\n",
              "  <button class=\"colab-df-quickchart\" onclick=\"quickchart('df-847aa504-25a7-42bf-a367-a6541b53f25b')\"\n",
              "            title=\"Suggest charts\"\n",
              "            style=\"display:none;\">\n",
              "\n",
              "<svg xmlns=\"http://www.w3.org/2000/svg\" height=\"24px\"viewBox=\"0 0 24 24\"\n",
              "     width=\"24px\">\n",
              "    <g>\n",
              "        <path d=\"M19 3H5c-1.1 0-2 .9-2 2v14c0 1.1.9 2 2 2h14c1.1 0 2-.9 2-2V5c0-1.1-.9-2-2-2zM9 17H7v-7h2v7zm4 0h-2V7h2v10zm4 0h-2v-4h2v4z\"/>\n",
              "    </g>\n",
              "</svg>\n",
              "  </button>\n",
              "\n",
              "<style>\n",
              "  .colab-df-quickchart {\n",
              "      --bg-color: #E8F0FE;\n",
              "      --fill-color: #1967D2;\n",
              "      --hover-bg-color: #E2EBFA;\n",
              "      --hover-fill-color: #174EA6;\n",
              "      --disabled-fill-color: #AAA;\n",
              "      --disabled-bg-color: #DDD;\n",
              "  }\n",
              "\n",
              "  [theme=dark] .colab-df-quickchart {\n",
              "      --bg-color: #3B4455;\n",
              "      --fill-color: #D2E3FC;\n",
              "      --hover-bg-color: #434B5C;\n",
              "      --hover-fill-color: #FFFFFF;\n",
              "      --disabled-bg-color: #3B4455;\n",
              "      --disabled-fill-color: #666;\n",
              "  }\n",
              "\n",
              "  .colab-df-quickchart {\n",
              "    background-color: var(--bg-color);\n",
              "    border: none;\n",
              "    border-radius: 50%;\n",
              "    cursor: pointer;\n",
              "    display: none;\n",
              "    fill: var(--fill-color);\n",
              "    height: 32px;\n",
              "    padding: 0;\n",
              "    width: 32px;\n",
              "  }\n",
              "\n",
              "  .colab-df-quickchart:hover {\n",
              "    background-color: var(--hover-bg-color);\n",
              "    box-shadow: 0 1px 2px rgba(60, 64, 67, 0.3), 0 1px 3px 1px rgba(60, 64, 67, 0.15);\n",
              "    fill: var(--button-hover-fill-color);\n",
              "  }\n",
              "\n",
              "  .colab-df-quickchart-complete:disabled,\n",
              "  .colab-df-quickchart-complete:disabled:hover {\n",
              "    background-color: var(--disabled-bg-color);\n",
              "    fill: var(--disabled-fill-color);\n",
              "    box-shadow: none;\n",
              "  }\n",
              "\n",
              "  .colab-df-spinner {\n",
              "    border: 2px solid var(--fill-color);\n",
              "    border-color: transparent;\n",
              "    border-bottom-color: var(--fill-color);\n",
              "    animation:\n",
              "      spin 1s steps(1) infinite;\n",
              "  }\n",
              "\n",
              "  @keyframes spin {\n",
              "    0% {\n",
              "      border-color: transparent;\n",
              "      border-bottom-color: var(--fill-color);\n",
              "      border-left-color: var(--fill-color);\n",
              "    }\n",
              "    20% {\n",
              "      border-color: transparent;\n",
              "      border-left-color: var(--fill-color);\n",
              "      border-top-color: var(--fill-color);\n",
              "    }\n",
              "    30% {\n",
              "      border-color: transparent;\n",
              "      border-left-color: var(--fill-color);\n",
              "      border-top-color: var(--fill-color);\n",
              "      border-right-color: var(--fill-color);\n",
              "    }\n",
              "    40% {\n",
              "      border-color: transparent;\n",
              "      border-right-color: var(--fill-color);\n",
              "      border-top-color: var(--fill-color);\n",
              "    }\n",
              "    60% {\n",
              "      border-color: transparent;\n",
              "      border-right-color: var(--fill-color);\n",
              "    }\n",
              "    80% {\n",
              "      border-color: transparent;\n",
              "      border-right-color: var(--fill-color);\n",
              "      border-bottom-color: var(--fill-color);\n",
              "    }\n",
              "    90% {\n",
              "      border-color: transparent;\n",
              "      border-bottom-color: var(--fill-color);\n",
              "    }\n",
              "  }\n",
              "</style>\n",
              "\n",
              "  <script>\n",
              "    async function quickchart(key) {\n",
              "      const quickchartButtonEl =\n",
              "        document.querySelector('#' + key + ' button');\n",
              "      quickchartButtonEl.disabled = true;  // To prevent multiple clicks.\n",
              "      quickchartButtonEl.classList.add('colab-df-spinner');\n",
              "      try {\n",
              "        const charts = await google.colab.kernel.invokeFunction(\n",
              "            'suggestCharts', [key], {});\n",
              "      } catch (error) {\n",
              "        console.error('Error during call to suggestCharts:', error);\n",
              "      }\n",
              "      quickchartButtonEl.classList.remove('colab-df-spinner');\n",
              "      quickchartButtonEl.classList.add('colab-df-quickchart-complete');\n",
              "    }\n",
              "    (() => {\n",
              "      let quickchartButtonEl =\n",
              "        document.querySelector('#df-847aa504-25a7-42bf-a367-a6541b53f25b button');\n",
              "      quickchartButtonEl.style.display =\n",
              "        google.colab.kernel.accessAllowed ? 'block' : 'none';\n",
              "    })();\n",
              "  </script>\n",
              "</div>\n",
              "    </div>\n",
              "  </div>\n"
            ]
          },
          "metadata": {},
          "execution_count": 5
        }
      ]
    }
  ],
  "metadata": {
    "colab": {
      "provenance": []
    },
    "kernelspec": {
      "display_name": "Python 3",
      "name": "python3"
    },
    "language_info": {
      "name": "python"
    }
  },
  "nbformat": 4,
  "nbformat_minor": 0
}